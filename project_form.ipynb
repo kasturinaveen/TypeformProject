{
 "cells": [
  {
   "cell_type": "code",
   "execution_count": 92,
   "metadata": {},
   "outputs": [],
   "source": [
    "import numpy as np\n",
    "import pandas as pd\n",
    "import matplotlib.pyplot as plt\n",
    "import seaborn as sns\n",
    "from pyspark.sql import SparkSession, Row, functions\n",
    "from pyspark.sql.types import StructType, StructField, IntegerType, StringType, ArrayType, FloatType\n",
    "from pyspark.ml import Pipeline\n",
    "from pyspark.ml.tuning import ParamGridBuilder, CrossValidator\n",
    "from pyspark.ml.evaluation import RegressionEvaluator\n",
    "\n",
    "# Spark Session, Pipeline, Functions, and Metrics\n",
    "from pyspark import SparkContext, SparkConf\n",
    "from pyspark.sql import SQLContext\n",
    "from pyspark.ml.feature import OneHotEncoderEstimator, StringIndexer, StandardScaler, VectorAssembler\n",
    "from pyspark.ml import Pipeline\n",
    "from pyspark.sql.functions import rand\n",
    "from pyspark.mllib.evaluation import MulticlassMetrics\n",
    "\n",
    "# Keras / Deep Learning\n",
    "from keras.models import Sequential\n",
    "from keras.layers.core import Dense, Dropout, Activation\n",
    "from keras import optimizers, regularizers\n",
    "from keras.optimizers import Adam\n",
    "\n",
    "# Elephas for Deep Learning on Spark\n",
    "from elephas.ml_model import ElephasEstimator"
   ]
  },
  {
   "cell_type": "code",
   "execution_count": 5,
   "metadata": {},
   "outputs": [],
   "source": [
    "spark = SparkSession.builder \\\n",
    "   .master(\"local\") \\\n",
    "   .appName(\"test\") \\\n",
    "   .config(\"spark.executor.memory\", \"1gb\") \\\n",
    "   .getOrCreate()"
   ]
  },
  {
   "cell_type": "code",
   "execution_count": 2,
   "metadata": {},
   "outputs": [],
   "source": [
    "conf = SparkConf().setAppName('Spark DL Tabular Pipeline').setMaster('local[6]')\n",
    "sc = SparkContext(conf=conf)\n",
    "sql_context = SQLContext(sc)"
   ]
  },
  {
   "cell_type": "code",
   "execution_count": 141,
   "metadata": {},
   "outputs": [],
   "source": [
    "df = sql_context.read.csv('data.csv')"
   ]
  },
  {
   "cell_type": "code",
   "execution_count": 2,
   "metadata": {},
   "outputs": [],
   "source": [
    "sc.stop()"
   ]
  },
  {
   "cell_type": "code",
   "execution_count": 153,
   "metadata": {},
   "outputs": [],
   "source": [
    "df = df.withColumn(\"_c0\",functions.expr(\"substring(_c0, 2, length(_c0)-1)\"))\n",
    "df = df.withColumn(\"_c3\",functions.expr(\"substring(_c3, 1, length(_c3)-1)\"))"
   ]
  },
  {
   "cell_type": "code",
   "execution_count": 154,
   "metadata": {},
   "outputs": [],
   "source": [
    "df = df.withColumnRenamed(\"_c0\", \"form_id\")\\\n",
    "        .withColumnRenamed(\"_c1\", \"views\")\\\n",
    "        .withColumnRenamed(\"_c2\", \"submissions\")\\\n",
    "        .withColumnRenamed(\"_c3\", \"features\")"
   ]
  },
  {
   "cell_type": "code",
   "execution_count": 155,
   "metadata": {
    "scrolled": false
   },
   "outputs": [
    {
     "data": {
      "text/plain": [
       "[Row(form_id='1113027', views='33', submissions='27', features='0.0-0.0-0.0-0.0-0.0-0.0-1.0-0.0-1.0-0.0-0.0-0.0-0.0-0.0-0.0-0.0-0.0-0.0-0.0-0.0-2.0-0.0-2.0-0.0-0.0-0.0-0.0-0.0-0.0-0.0-0.0-0.0-0.0-0.0-0.0-0.0-0.0-0.0-0.0-0.0-0.0-0.0-0.0-0.0-2.0-1.0-2.0'),\n",
       " Row(form_id='1115313', views='147', submissions='111', features='0.0-2.0-0.0-0.0-0.0-0.0-0.0-0.0-1.0-0.0-0.0-0.0-0.0-0.0-0.0-0.0-0.0-0.0-0.0-0.0-3.0-0.0-3.0-0.0-0.0-0.0-0.0-0.0-0.0-0.0-0.0-0.0-0.0-0.0-0.0-0.0-0.0-0.0-0.0-0.0-0.0-0.0-0.0-0.0-0.0-0.0-0.0')]"
      ]
     },
     "execution_count": 155,
     "metadata": {},
     "output_type": "execute_result"
    }
   ],
   "source": [
    "df.take(2)"
   ]
  },
  {
   "cell_type": "code",
   "execution_count": 156,
   "metadata": {},
   "outputs": [],
   "source": [
    "df2 = df.select('form_id','views','submissions', functions.split('features', '-').alias('features'))\n",
    "\n",
    "df_sizes = df2.select(functions.size('features').alias('features'))\n",
    "df_max = df_sizes.agg(functions.max('features'))\n",
    "nb_columns = df_max.collect()[0][0]\n",
    "\n",
    "data = df2.select('form_id','views','submissions', *[df2['features'][i] for i in range(nb_columns)])"
   ]
  },
  {
   "cell_type": "code",
   "execution_count": 157,
   "metadata": {},
   "outputs": [],
   "source": [
    "del df2,df, df_max, df_sizes"
   ]
  },
  {
   "cell_type": "code",
   "execution_count": 158,
   "metadata": {},
   "outputs": [],
   "source": [
    "data = data.select(*(functions.col(column).cast(\"float\").alias(column) for column in data.columns))\n",
    "data = data.withColumn('form_id', functions.col('form_id').cast('int'))\n",
    "data = data.withColumn('views', functions.col('views').cast('int'))\n",
    "data = data.withColumn('submissions', functions.col('submissions').cast('int'))"
   ]
  },
  {
   "cell_type": "code",
   "execution_count": 159,
   "metadata": {},
   "outputs": [
    {
     "data": {
      "text/html": [
       "<div>\n",
       "<style scoped>\n",
       "    .dataframe tbody tr th:only-of-type {\n",
       "        vertical-align: middle;\n",
       "    }\n",
       "\n",
       "    .dataframe tbody tr th {\n",
       "        vertical-align: top;\n",
       "    }\n",
       "\n",
       "    .dataframe thead th {\n",
       "        text-align: right;\n",
       "    }\n",
       "</style>\n",
       "<table border=\"1\" class=\"dataframe\">\n",
       "  <thead>\n",
       "    <tr style=\"text-align: right;\">\n",
       "      <th></th>\n",
       "      <th>form_id</th>\n",
       "      <th>views</th>\n",
       "      <th>submissions</th>\n",
       "      <th>features[0]</th>\n",
       "      <th>features[1]</th>\n",
       "      <th>features[2]</th>\n",
       "      <th>features[3]</th>\n",
       "      <th>features[4]</th>\n",
       "      <th>features[5]</th>\n",
       "      <th>features[6]</th>\n",
       "      <th>...</th>\n",
       "      <th>features[37]</th>\n",
       "      <th>features[38]</th>\n",
       "      <th>features[39]</th>\n",
       "      <th>features[40]</th>\n",
       "      <th>features[41]</th>\n",
       "      <th>features[42]</th>\n",
       "      <th>features[43]</th>\n",
       "      <th>features[44]</th>\n",
       "      <th>features[45]</th>\n",
       "      <th>features[46]</th>\n",
       "    </tr>\n",
       "  </thead>\n",
       "  <tbody>\n",
       "    <tr>\n",
       "      <th>0</th>\n",
       "      <td>1113027</td>\n",
       "      <td>33</td>\n",
       "      <td>27</td>\n",
       "      <td>0.0</td>\n",
       "      <td>0.0</td>\n",
       "      <td>0.0</td>\n",
       "      <td>0.0</td>\n",
       "      <td>0.0</td>\n",
       "      <td>0.0</td>\n",
       "      <td>1.0</td>\n",
       "      <td>...</td>\n",
       "      <td>0.0</td>\n",
       "      <td>0.0</td>\n",
       "      <td>0.0</td>\n",
       "      <td>0.0</td>\n",
       "      <td>0.0</td>\n",
       "      <td>0.0</td>\n",
       "      <td>0.0</td>\n",
       "      <td>2.0</td>\n",
       "      <td>1.0</td>\n",
       "      <td>2.0</td>\n",
       "    </tr>\n",
       "    <tr>\n",
       "      <th>1</th>\n",
       "      <td>1115313</td>\n",
       "      <td>147</td>\n",
       "      <td>111</td>\n",
       "      <td>0.0</td>\n",
       "      <td>2.0</td>\n",
       "      <td>0.0</td>\n",
       "      <td>0.0</td>\n",
       "      <td>0.0</td>\n",
       "      <td>0.0</td>\n",
       "      <td>0.0</td>\n",
       "      <td>...</td>\n",
       "      <td>0.0</td>\n",
       "      <td>0.0</td>\n",
       "      <td>0.0</td>\n",
       "      <td>0.0</td>\n",
       "      <td>0.0</td>\n",
       "      <td>0.0</td>\n",
       "      <td>0.0</td>\n",
       "      <td>0.0</td>\n",
       "      <td>0.0</td>\n",
       "      <td>0.0</td>\n",
       "    </tr>\n",
       "    <tr>\n",
       "      <th>2</th>\n",
       "      <td>1115907</td>\n",
       "      <td>528</td>\n",
       "      <td>136</td>\n",
       "      <td>0.0</td>\n",
       "      <td>1.0</td>\n",
       "      <td>0.0</td>\n",
       "      <td>0.0</td>\n",
       "      <td>1.0</td>\n",
       "      <td>0.0</td>\n",
       "      <td>6.0</td>\n",
       "      <td>...</td>\n",
       "      <td>0.0</td>\n",
       "      <td>0.0</td>\n",
       "      <td>0.0</td>\n",
       "      <td>0.0</td>\n",
       "      <td>1.0</td>\n",
       "      <td>1.0</td>\n",
       "      <td>0.0</td>\n",
       "      <td>0.0</td>\n",
       "      <td>0.0</td>\n",
       "      <td>30.0</td>\n",
       "    </tr>\n",
       "    <tr>\n",
       "      <th>3</th>\n",
       "      <td>1116299</td>\n",
       "      <td>55</td>\n",
       "      <td>21</td>\n",
       "      <td>0.0</td>\n",
       "      <td>2.0</td>\n",
       "      <td>0.0</td>\n",
       "      <td>0.0</td>\n",
       "      <td>0.0</td>\n",
       "      <td>1.0</td>\n",
       "      <td>2.0</td>\n",
       "      <td>...</td>\n",
       "      <td>0.0</td>\n",
       "      <td>0.0</td>\n",
       "      <td>0.0</td>\n",
       "      <td>1.0</td>\n",
       "      <td>0.0</td>\n",
       "      <td>0.0</td>\n",
       "      <td>0.0</td>\n",
       "      <td>0.0</td>\n",
       "      <td>0.0</td>\n",
       "      <td>7.0</td>\n",
       "    </tr>\n",
       "    <tr>\n",
       "      <th>4</th>\n",
       "      <td>1120373</td>\n",
       "      <td>62</td>\n",
       "      <td>54</td>\n",
       "      <td>0.0</td>\n",
       "      <td>0.0</td>\n",
       "      <td>0.0</td>\n",
       "      <td>0.0</td>\n",
       "      <td>1.0</td>\n",
       "      <td>0.0</td>\n",
       "      <td>4.0</td>\n",
       "      <td>...</td>\n",
       "      <td>0.0</td>\n",
       "      <td>0.0</td>\n",
       "      <td>0.0</td>\n",
       "      <td>0.0</td>\n",
       "      <td>1.0</td>\n",
       "      <td>1.0</td>\n",
       "      <td>1.0</td>\n",
       "      <td>11.0</td>\n",
       "      <td>7.0</td>\n",
       "      <td>21.0</td>\n",
       "    </tr>\n",
       "  </tbody>\n",
       "</table>\n",
       "<p>5 rows × 50 columns</p>\n",
       "</div>"
      ],
      "text/plain": [
       "   form_id  views  submissions  features[0]  features[1]  features[2]  \\\n",
       "0  1113027     33           27          0.0          0.0          0.0   \n",
       "1  1115313    147          111          0.0          2.0          0.0   \n",
       "2  1115907    528          136          0.0          1.0          0.0   \n",
       "3  1116299     55           21          0.0          2.0          0.0   \n",
       "4  1120373     62           54          0.0          0.0          0.0   \n",
       "\n",
       "   features[3]  features[4]  features[5]  features[6]  ...  features[37]  \\\n",
       "0          0.0          0.0          0.0          1.0  ...           0.0   \n",
       "1          0.0          0.0          0.0          0.0  ...           0.0   \n",
       "2          0.0          1.0          0.0          6.0  ...           0.0   \n",
       "3          0.0          0.0          1.0          2.0  ...           0.0   \n",
       "4          0.0          1.0          0.0          4.0  ...           0.0   \n",
       "\n",
       "   features[38]  features[39]  features[40]  features[41]  features[42]  \\\n",
       "0           0.0           0.0           0.0           0.0           0.0   \n",
       "1           0.0           0.0           0.0           0.0           0.0   \n",
       "2           0.0           0.0           0.0           1.0           1.0   \n",
       "3           0.0           0.0           1.0           0.0           0.0   \n",
       "4           0.0           0.0           0.0           1.0           1.0   \n",
       "\n",
       "   features[43]  features[44]  features[45]  features[46]  \n",
       "0           0.0           2.0           1.0           2.0  \n",
       "1           0.0           0.0           0.0           0.0  \n",
       "2           0.0           0.0           0.0          30.0  \n",
       "3           0.0           0.0           0.0           7.0  \n",
       "4           1.0          11.0           7.0          21.0  \n",
       "\n",
       "[5 rows x 50 columns]"
      ]
     },
     "execution_count": 159,
     "metadata": {},
     "output_type": "execute_result"
    }
   ],
   "source": [
    "data.limit(5).toPandas()"
   ]
  },
  {
   "cell_type": "code",
   "execution_count": 160,
   "metadata": {},
   "outputs": [
    {
     "data": {
      "text/plain": [
       "1031284"
      ]
     },
     "execution_count": 160,
     "metadata": {},
     "output_type": "execute_result"
    }
   ],
   "source": [
    "data.count()"
   ]
  },
  {
   "cell_type": "code",
   "execution_count": 161,
   "metadata": {},
   "outputs": [],
   "source": [
    "data = data.withColumn(\"submission_ratio\",functions.col(\"submissions\")/functions.col(\"views\"))"
   ]
  },
  {
   "cell_type": "markdown",
   "metadata": {},
   "source": [
    "# Exploratory Data Analysis"
   ]
  },
  {
   "cell_type": "markdown",
   "metadata": {},
   "source": [
    "Data we have is about a Million rows,  I will sample 10% of rows for getting faster insights with the machine capacity I have."
   ]
  },
  {
   "cell_type": "code",
   "execution_count": 162,
   "metadata": {},
   "outputs": [],
   "source": [
    "data_sample = data.sample(False, 0.1, seed = 20)\n",
    "_data_p = data_sample.toPandas()"
   ]
  },
  {
   "cell_type": "code",
   "execution_count": 163,
   "metadata": {},
   "outputs": [
    {
     "data": {
      "text/plain": [
       "(103416, 51)"
      ]
     },
     "execution_count": 163,
     "metadata": {},
     "output_type": "execute_result"
    }
   ],
   "source": [
    "_data_p.shape"
   ]
  },
  {
   "cell_type": "code",
   "execution_count": 282,
   "metadata": {},
   "outputs": [
    {
     "data": {
      "text/html": [
       "<div>\n",
       "<style scoped>\n",
       "    .dataframe tbody tr th:only-of-type {\n",
       "        vertical-align: middle;\n",
       "    }\n",
       "\n",
       "    .dataframe tbody tr th {\n",
       "        vertical-align: top;\n",
       "    }\n",
       "\n",
       "    .dataframe thead th {\n",
       "        text-align: right;\n",
       "    }\n",
       "</style>\n",
       "<table border=\"1\" class=\"dataframe\">\n",
       "  <thead>\n",
       "    <tr style=\"text-align: right;\">\n",
       "      <th></th>\n",
       "      <th>form_id</th>\n",
       "      <th>views</th>\n",
       "      <th>submissions</th>\n",
       "      <th>features[0]</th>\n",
       "      <th>features[1]</th>\n",
       "      <th>features[2]</th>\n",
       "      <th>features[3]</th>\n",
       "      <th>features[4]</th>\n",
       "      <th>features[5]</th>\n",
       "      <th>features[6]</th>\n",
       "      <th>...</th>\n",
       "      <th>features[38]</th>\n",
       "      <th>features[39]</th>\n",
       "      <th>features[40]</th>\n",
       "      <th>features[41]</th>\n",
       "      <th>features[42]</th>\n",
       "      <th>features[43]</th>\n",
       "      <th>features[44]</th>\n",
       "      <th>features[45]</th>\n",
       "      <th>features[46]</th>\n",
       "      <th>submission_ratio</th>\n",
       "    </tr>\n",
       "  </thead>\n",
       "  <tbody>\n",
       "    <tr>\n",
       "      <th>0</th>\n",
       "      <td>1135259</td>\n",
       "      <td>66406</td>\n",
       "      <td>44258</td>\n",
       "      <td>1.0</td>\n",
       "      <td>0.0</td>\n",
       "      <td>0.0</td>\n",
       "      <td>0.0</td>\n",
       "      <td>0.0</td>\n",
       "      <td>0.0</td>\n",
       "      <td>3.0</td>\n",
       "      <td>...</td>\n",
       "      <td>0.0</td>\n",
       "      <td>0.0</td>\n",
       "      <td>0.0</td>\n",
       "      <td>1.0</td>\n",
       "      <td>1.0</td>\n",
       "      <td>0.0</td>\n",
       "      <td>0.0</td>\n",
       "      <td>0.0</td>\n",
       "      <td>7.0</td>\n",
       "      <td>0.666476</td>\n",
       "    </tr>\n",
       "    <tr>\n",
       "      <th>1</th>\n",
       "      <td>1145334</td>\n",
       "      <td>536</td>\n",
       "      <td>104</td>\n",
       "      <td>1.0</td>\n",
       "      <td>0.0</td>\n",
       "      <td>0.0</td>\n",
       "      <td>0.0</td>\n",
       "      <td>0.0</td>\n",
       "      <td>0.0</td>\n",
       "      <td>1.0</td>\n",
       "      <td>...</td>\n",
       "      <td>0.0</td>\n",
       "      <td>0.0</td>\n",
       "      <td>0.0</td>\n",
       "      <td>1.0</td>\n",
       "      <td>1.0</td>\n",
       "      <td>0.0</td>\n",
       "      <td>0.0</td>\n",
       "      <td>0.0</td>\n",
       "      <td>4.0</td>\n",
       "      <td>0.194030</td>\n",
       "    </tr>\n",
       "    <tr>\n",
       "      <th>2</th>\n",
       "      <td>1161283</td>\n",
       "      <td>17</td>\n",
       "      <td>12</td>\n",
       "      <td>0.0</td>\n",
       "      <td>0.0</td>\n",
       "      <td>0.0</td>\n",
       "      <td>0.0</td>\n",
       "      <td>0.0</td>\n",
       "      <td>0.0</td>\n",
       "      <td>3.0</td>\n",
       "      <td>...</td>\n",
       "      <td>0.0</td>\n",
       "      <td>0.0</td>\n",
       "      <td>0.0</td>\n",
       "      <td>0.0</td>\n",
       "      <td>0.0</td>\n",
       "      <td>0.0</td>\n",
       "      <td>0.0</td>\n",
       "      <td>0.0</td>\n",
       "      <td>15.0</td>\n",
       "      <td>0.705882</td>\n",
       "    </tr>\n",
       "    <tr>\n",
       "      <th>3</th>\n",
       "      <td>1213407</td>\n",
       "      <td>178</td>\n",
       "      <td>56</td>\n",
       "      <td>1.0</td>\n",
       "      <td>0.0</td>\n",
       "      <td>0.0</td>\n",
       "      <td>0.0</td>\n",
       "      <td>0.0</td>\n",
       "      <td>0.0</td>\n",
       "      <td>1.0</td>\n",
       "      <td>...</td>\n",
       "      <td>0.0</td>\n",
       "      <td>0.0</td>\n",
       "      <td>0.0</td>\n",
       "      <td>1.0</td>\n",
       "      <td>1.0</td>\n",
       "      <td>0.0</td>\n",
       "      <td>0.0</td>\n",
       "      <td>0.0</td>\n",
       "      <td>4.0</td>\n",
       "      <td>0.314607</td>\n",
       "    </tr>\n",
       "    <tr>\n",
       "      <th>4</th>\n",
       "      <td>1213844</td>\n",
       "      <td>88</td>\n",
       "      <td>13</td>\n",
       "      <td>0.0</td>\n",
       "      <td>1.0</td>\n",
       "      <td>0.0</td>\n",
       "      <td>0.0</td>\n",
       "      <td>0.0</td>\n",
       "      <td>0.0</td>\n",
       "      <td>2.0</td>\n",
       "      <td>...</td>\n",
       "      <td>0.0</td>\n",
       "      <td>0.0</td>\n",
       "      <td>0.0</td>\n",
       "      <td>0.0</td>\n",
       "      <td>0.0</td>\n",
       "      <td>0.0</td>\n",
       "      <td>0.0</td>\n",
       "      <td>0.0</td>\n",
       "      <td>9.0</td>\n",
       "      <td>0.147727</td>\n",
       "    </tr>\n",
       "  </tbody>\n",
       "</table>\n",
       "<p>5 rows × 51 columns</p>\n",
       "</div>"
      ],
      "text/plain": [
       "   form_id  views  submissions  features[0]  features[1]  features[2]  \\\n",
       "0  1135259  66406        44258          1.0          0.0          0.0   \n",
       "1  1145334    536          104          1.0          0.0          0.0   \n",
       "2  1161283     17           12          0.0          0.0          0.0   \n",
       "3  1213407    178           56          1.0          0.0          0.0   \n",
       "4  1213844     88           13          0.0          1.0          0.0   \n",
       "\n",
       "   features[3]  features[4]  features[5]  features[6]  ...  features[38]  \\\n",
       "0          0.0          0.0          0.0          3.0  ...           0.0   \n",
       "1          0.0          0.0          0.0          1.0  ...           0.0   \n",
       "2          0.0          0.0          0.0          3.0  ...           0.0   \n",
       "3          0.0          0.0          0.0          1.0  ...           0.0   \n",
       "4          0.0          0.0          0.0          2.0  ...           0.0   \n",
       "\n",
       "   features[39]  features[40]  features[41]  features[42]  features[43]  \\\n",
       "0           0.0           0.0           1.0           1.0           0.0   \n",
       "1           0.0           0.0           1.0           1.0           0.0   \n",
       "2           0.0           0.0           0.0           0.0           0.0   \n",
       "3           0.0           0.0           1.0           1.0           0.0   \n",
       "4           0.0           0.0           0.0           0.0           0.0   \n",
       "\n",
       "   features[44]  features[45]  features[46]  submission_ratio  \n",
       "0           0.0           0.0           7.0          0.666476  \n",
       "1           0.0           0.0           4.0          0.194030  \n",
       "2           0.0           0.0          15.0          0.705882  \n",
       "3           0.0           0.0           4.0          0.314607  \n",
       "4           0.0           0.0           9.0          0.147727  \n",
       "\n",
       "[5 rows x 51 columns]"
      ]
     },
     "execution_count": 282,
     "metadata": {},
     "output_type": "execute_result"
    }
   ],
   "source": [
    "_data_p.head()"
   ]
  },
  {
   "cell_type": "markdown",
   "metadata": {},
   "source": [
    "Lets keep aside 'views' and 'submissions' columns I already have submission_ration column which is column of interest for us."
   ]
  },
  {
   "cell_type": "code",
   "execution_count": 293,
   "metadata": {},
   "outputs": [],
   "source": [
    "_data_p.drop(axis=1,columns=['views','submissions'], inplace=True)"
   ]
  },
  {
   "cell_type": "markdown",
   "metadata": {},
   "source": [
    "### Target Variable"
   ]
  },
  {
   "cell_type": "markdown",
   "metadata": {},
   "source": [
    "We need to predict submission_ratio for a form. Let's take a look at 'subission_ratio' distribution."
   ]
  },
  {
   "cell_type": "code",
   "execution_count": 296,
   "metadata": {
    "scrolled": true
   },
   "outputs": [
    {
     "data": {
      "image/png": "[encoded data removed]",
      "text/plain": [
       "<Figure size 432x288 with 1 Axes>"
      ]
     },
     "metadata": {
      "needs_background": "light"
     },
     "output_type": "display_data"
    }
   ],
   "source": [
    "sns.distplot(_data_p['submission_ratio']);"
   ]
  },
  {
   "cell_type": "markdown",
   "metadata": {},
   "source": [
    "Looks like a Gaussian Distribution. It seems to be fairly symmetrical."
   ]
  },
  {
   "cell_type": "code",
   "execution_count": 299,
   "metadata": {
    "scrolled": true
   },
   "outputs": [
    {
     "name": "stdout",
     "output_type": "stream",
     "text": [
      "Skewness: -0.179234\n",
      "Kurtosis: -0.721690\n"
     ]
    }
   ],
   "source": [
    "#skewness and kurtosis\n",
    "print(\"Skewness: %f\" % _data_p['submission_ratio'].skew())\n",
    "print(\"Kurtosis: %f\" % _data_p['submission_ratio'].kurt())"
   ]
  },
  {
   "cell_type": "markdown",
   "metadata": {},
   "source": [
    "Skewness and Kurtosis are fairly low. It doesn't seem to have any outliers."
   ]
  },
  {
   "cell_type": "code",
   "execution_count": 382,
   "metadata": {},
   "outputs": [
    {
     "data": {
      "image/png": "[encoded data removed]",
      "text/plain": [
       "<Figure size 432x288 with 1 Axes>"
      ]
     },
     "metadata": {},
     "output_type": "display_data"
    }
   ],
   "source": [
    "from scipy import stats\n",
    "res = stats.probplot(_data_p['submission_ratio'], plot=plt)"
   ]
  },
  {
   "cell_type": "code",
   "execution_count": 300,
   "metadata": {},
   "outputs": [
    {
     "data": {
      "text/plain": [
       "<matplotlib.axes._subplots.AxesSubplot at 0x1a4dc4cf28>"
      ]
     },
     "execution_count": 300,
     "metadata": {},
     "output_type": "execute_result"
    },
    {
     "data": {
      "image/png": "[encoded data removed]",
      "text/plain": [
       "<Figure size 432x288 with 1 Axes>"
      ]
     },
     "metadata": {
      "needs_background": "light"
     },
     "output_type": "display_data"
    }
   ],
   "source": [
    "sns.boxplot(_data_p['submission_ratio'])"
   ]
  },
  {
   "cell_type": "markdown",
   "metadata": {},
   "source": [
    "One of the best boxplots I had come across. Good distribution and no outliers."
   ]
  },
  {
   "cell_type": "markdown",
   "metadata": {},
   "source": [
    "## Handling Missing Values"
   ]
  },
  {
   "cell_type": "code",
   "execution_count": 294,
   "metadata": {},
   "outputs": [
    {
     "data": {
      "text/plain": [
       "form_id             0\n",
       "features[0]         0\n",
       "features[1]         0\n",
       "features[2]         0\n",
       "features[3]         0\n",
       "features[4]         0\n",
       "features[5]         0\n",
       "features[6]         0\n",
       "features[7]         0\n",
       "features[8]         0\n",
       "features[9]         0\n",
       "features[10]        0\n",
       "features[11]        0\n",
       "features[12]        0\n",
       "features[13]        0\n",
       "features[14]        0\n",
       "features[15]        0\n",
       "features[16]        0\n",
       "features[17]        0\n",
       "features[18]        0\n",
       "features[19]        0\n",
       "features[20]        0\n",
       "features[21]        0\n",
       "features[22]        0\n",
       "features[23]        0\n",
       "features[24]        0\n",
       "features[25]        0\n",
       "features[26]        0\n",
       "features[27]        0\n",
       "features[28]        0\n",
       "features[29]        0\n",
       "features[30]        0\n",
       "features[31]        0\n",
       "features[32]        0\n",
       "features[33]        0\n",
       "features[34]        0\n",
       "features[35]        0\n",
       "features[36]        0\n",
       "features[37]        0\n",
       "features[38]        0\n",
       "features[39]        0\n",
       "features[40]        0\n",
       "features[41]        0\n",
       "features[42]        0\n",
       "features[43]        0\n",
       "features[44]        0\n",
       "features[45]        0\n",
       "features[46]        0\n",
       "submission_ratio    0\n",
       "dtype: int64"
      ]
     },
     "execution_count": 294,
     "metadata": {},
     "output_type": "execute_result"
    }
   ],
   "source": [
    "_data_p.isna().sum()"
   ]
  },
  {
   "cell_type": "markdown",
   "metadata": {},
   "source": [
    "There seems to be no missing values in dataset. I'm assuming same holds good for the population. If there are missing values we can work on various imputation methods or other dropping techniques."
   ]
  },
  {
   "cell_type": "markdown",
   "metadata": {},
   "source": [
    "### Ouliers Handling"
   ]
  },
  {
   "cell_type": "markdown",
   "metadata": {},
   "source": [
    "Anomalies in data can be notorious if we feed to certain ML models. For example in a linear regression addition of one oulier can push the regression line completely in different direction. Anomalies can be available in data because of true outlier observation or because of errors during data ingestion or measurement error. It is important to identify anomalies and treat them right with the help of domain knowledge, statistical analysis."
   ]
  },
  {
   "cell_type": "markdown",
   "metadata": {},
   "source": [
    "For this analysis I'm doing a blanket outlier identification using Z-Score. If any observation Z-Score is greater than 3 lets consider it as outlier for simiplicity. When Deeper analysis is done we can do extreme value analysis, proximity methods, applying domain knwoledge etc to understand Outliers better."
   ]
  },
  {
   "cell_type": "code",
   "execution_count": 302,
   "metadata": {},
   "outputs": [],
   "source": [
    "def detect_outlier(data):\n",
    "    \n",
    "    threshold=3\n",
    "    mean = np.mean(data)\n",
    "    std =np.std(data)\n",
    "    outliers=[]\n",
    "    \n",
    "    for y in data:\n",
    "        z_score= (y - mean)/std \n",
    "        if np.abs(z_score) > threshold:\n",
    "            outliers.append(y)\n",
    "    return outliers"
   ]
  },
  {
   "cell_type": "code",
   "execution_count": 311,
   "metadata": {
    "scrolled": true
   },
   "outputs": [
    {
     "data": {
      "text/html": [
       "<div>\n",
       "<style scoped>\n",
       "    .dataframe tbody tr th:only-of-type {\n",
       "        vertical-align: middle;\n",
       "    }\n",
       "\n",
       "    .dataframe tbody tr th {\n",
       "        vertical-align: top;\n",
       "    }\n",
       "\n",
       "    .dataframe thead th {\n",
       "        text-align: right;\n",
       "    }\n",
       "</style>\n",
       "<table border=\"1\" class=\"dataframe\">\n",
       "  <thead>\n",
       "    <tr style=\"text-align: right;\">\n",
       "      <th></th>\n",
       "      <th>column</th>\n",
       "      <th>outlier_count</th>\n",
       "      <th>unique_outlier_count</th>\n",
       "      <th>unique_val_count</th>\n",
       "    </tr>\n",
       "  </thead>\n",
       "  <tbody>\n",
       "    <tr>\n",
       "      <th>0</th>\n",
       "      <td>features[1]</td>\n",
       "      <td>1335</td>\n",
       "      <td>24</td>\n",
       "      <td>28</td>\n",
       "    </tr>\n",
       "    <tr>\n",
       "      <th>1</th>\n",
       "      <td>features[2]</td>\n",
       "      <td>731</td>\n",
       "      <td>24</td>\n",
       "      <td>26</td>\n",
       "    </tr>\n",
       "    <tr>\n",
       "      <th>2</th>\n",
       "      <td>features[3]</td>\n",
       "      <td>101</td>\n",
       "      <td>2</td>\n",
       "      <td>3</td>\n",
       "    </tr>\n",
       "    <tr>\n",
       "      <th>3</th>\n",
       "      <td>features[4]</td>\n",
       "      <td>843</td>\n",
       "      <td>22</td>\n",
       "      <td>24</td>\n",
       "    </tr>\n",
       "    <tr>\n",
       "      <th>4</th>\n",
       "      <td>features[5]</td>\n",
       "      <td>1053</td>\n",
       "      <td>33</td>\n",
       "      <td>37</td>\n",
       "    </tr>\n",
       "  </tbody>\n",
       "</table>\n",
       "</div>"
      ],
      "text/plain": [
       "        column  outlier_count  unique_outlier_count  unique_val_count\n",
       "0  features[1]           1335                    24                28\n",
       "1  features[2]            731                    24                26\n",
       "2  features[3]            101                     2                 3\n",
       "3  features[4]            843                    22                24\n",
       "4  features[5]           1053                    33                37"
      ]
     },
     "execution_count": 311,
     "metadata": {},
     "output_type": "execute_result"
    }
   ],
   "source": [
    "columns = []\n",
    "outlier_count = []\n",
    "unique_count = []\n",
    "unique_col_values = []\n",
    "for col in _data_p.columns:\n",
    "    if col != 'form_id':\n",
    "        outliers = detect_outlier(_data_p[col])\n",
    "        count = len(outliers)\n",
    "        unique = len(set(outliers))\n",
    "        if count>0:\n",
    "            columns.append(col)\n",
    "            outlier_count.append(count)\n",
    "            unique_count.append(unique)\n",
    "            unique_col_values.append(len(_data_p[col].unique()))\n",
    "            \n",
    "outlier_count_df = pd.DataFrame({\"column\":columns, \"outlier_count\":outlier_count, \\\n",
    "                                 \"unique_outlier_count\":unique_count,\"unique_val_count\":unique_col_values})\n",
    "outlier_count_df.head()"
   ]
  },
  {
   "cell_type": "markdown",
   "metadata": {},
   "source": [
    "One of the focus areas while handling outliers is if number of unique outlier values in a feature is 1 or 2 it indicates either its default value assigned or it may be a categorical variable encoded using Target Encoding or WOE etc."
   ]
  },
  {
   "cell_type": "code",
   "execution_count": 314,
   "metadata": {
    "scrolled": true
   },
   "outputs": [
    {
     "data": {
      "text/html": [
       "<div>\n",
       "<style scoped>\n",
       "    .dataframe tbody tr th:only-of-type {\n",
       "        vertical-align: middle;\n",
       "    }\n",
       "\n",
       "    .dataframe tbody tr th {\n",
       "        vertical-align: top;\n",
       "    }\n",
       "\n",
       "    .dataframe thead th {\n",
       "        text-align: right;\n",
       "    }\n",
       "</style>\n",
       "<table border=\"1\" class=\"dataframe\">\n",
       "  <thead>\n",
       "    <tr style=\"text-align: right;\">\n",
       "      <th></th>\n",
       "      <th>column</th>\n",
       "      <th>outlier_count</th>\n",
       "      <th>unique_outlier_count</th>\n",
       "      <th>unique_val_count</th>\n",
       "    </tr>\n",
       "  </thead>\n",
       "  <tbody>\n",
       "    <tr>\n",
       "      <th>18</th>\n",
       "      <td>features[19]</td>\n",
       "      <td>201</td>\n",
       "      <td>1</td>\n",
       "      <td>2</td>\n",
       "    </tr>\n",
       "    <tr>\n",
       "      <th>2</th>\n",
       "      <td>features[3]</td>\n",
       "      <td>101</td>\n",
       "      <td>2</td>\n",
       "      <td>3</td>\n",
       "    </tr>\n",
       "    <tr>\n",
       "      <th>13</th>\n",
       "      <td>features[14]</td>\n",
       "      <td>1133</td>\n",
       "      <td>6</td>\n",
       "      <td>7</td>\n",
       "    </tr>\n",
       "    <tr>\n",
       "      <th>6</th>\n",
       "      <td>features[7]</td>\n",
       "      <td>235</td>\n",
       "      <td>7</td>\n",
       "      <td>9</td>\n",
       "    </tr>\n",
       "    <tr>\n",
       "      <th>8</th>\n",
       "      <td>features[9]</td>\n",
       "      <td>1330</td>\n",
       "      <td>8</td>\n",
       "      <td>9</td>\n",
       "    </tr>\n",
       "    <tr>\n",
       "      <th>33</th>\n",
       "      <td>features[34]</td>\n",
       "      <td>1068</td>\n",
       "      <td>9</td>\n",
       "      <td>10</td>\n",
       "    </tr>\n",
       "    <tr>\n",
       "      <th>11</th>\n",
       "      <td>features[12]</td>\n",
       "      <td>2216</td>\n",
       "      <td>12</td>\n",
       "      <td>13</td>\n",
       "    </tr>\n",
       "    <tr>\n",
       "      <th>42</th>\n",
       "      <td>features[43]</td>\n",
       "      <td>4481</td>\n",
       "      <td>13</td>\n",
       "      <td>14</td>\n",
       "    </tr>\n",
       "    <tr>\n",
       "      <th>29</th>\n",
       "      <td>features[30]</td>\n",
       "      <td>845</td>\n",
       "      <td>13</td>\n",
       "      <td>14</td>\n",
       "    </tr>\n",
       "    <tr>\n",
       "      <th>30</th>\n",
       "      <td>features[31]</td>\n",
       "      <td>1022</td>\n",
       "      <td>13</td>\n",
       "      <td>14</td>\n",
       "    </tr>\n",
       "    <tr>\n",
       "      <th>22</th>\n",
       "      <td>features[23]</td>\n",
       "      <td>2971</td>\n",
       "      <td>14</td>\n",
       "      <td>15</td>\n",
       "    </tr>\n",
       "    <tr>\n",
       "      <th>9</th>\n",
       "      <td>features[10]</td>\n",
       "      <td>2654</td>\n",
       "      <td>15</td>\n",
       "      <td>17</td>\n",
       "    </tr>\n",
       "    <tr>\n",
       "      <th>24</th>\n",
       "      <td>features[25]</td>\n",
       "      <td>112</td>\n",
       "      <td>15</td>\n",
       "      <td>17</td>\n",
       "    </tr>\n",
       "    <tr>\n",
       "      <th>27</th>\n",
       "      <td>features[28]</td>\n",
       "      <td>1261</td>\n",
       "      <td>16</td>\n",
       "      <td>19</td>\n",
       "    </tr>\n",
       "    <tr>\n",
       "      <th>37</th>\n",
       "      <td>features[38]</td>\n",
       "      <td>912</td>\n",
       "      <td>17</td>\n",
       "      <td>19</td>\n",
       "    </tr>\n",
       "    <tr>\n",
       "      <th>10</th>\n",
       "      <td>features[11]</td>\n",
       "      <td>2012</td>\n",
       "      <td>17</td>\n",
       "      <td>18</td>\n",
       "    </tr>\n",
       "    <tr>\n",
       "      <th>26</th>\n",
       "      <td>features[27]</td>\n",
       "      <td>995</td>\n",
       "      <td>18</td>\n",
       "      <td>21</td>\n",
       "    </tr>\n",
       "    <tr>\n",
       "      <th>40</th>\n",
       "      <td>features[41]</td>\n",
       "      <td>269</td>\n",
       "      <td>19</td>\n",
       "      <td>22</td>\n",
       "    </tr>\n",
       "    <tr>\n",
       "      <th>16</th>\n",
       "      <td>features[17]</td>\n",
       "      <td>1097</td>\n",
       "      <td>19</td>\n",
       "      <td>21</td>\n",
       "    </tr>\n",
       "    <tr>\n",
       "      <th>41</th>\n",
       "      <td>features[42]</td>\n",
       "      <td>333</td>\n",
       "      <td>22</td>\n",
       "      <td>25</td>\n",
       "    </tr>\n",
       "    <tr>\n",
       "      <th>3</th>\n",
       "      <td>features[4]</td>\n",
       "      <td>843</td>\n",
       "      <td>22</td>\n",
       "      <td>24</td>\n",
       "    </tr>\n",
       "    <tr>\n",
       "      <th>14</th>\n",
       "      <td>features[15]</td>\n",
       "      <td>1044</td>\n",
       "      <td>23</td>\n",
       "      <td>25</td>\n",
       "    </tr>\n",
       "    <tr>\n",
       "      <th>25</th>\n",
       "      <td>features[26]</td>\n",
       "      <td>1539</td>\n",
       "      <td>24</td>\n",
       "      <td>26</td>\n",
       "    </tr>\n",
       "    <tr>\n",
       "      <th>0</th>\n",
       "      <td>features[1]</td>\n",
       "      <td>1335</td>\n",
       "      <td>24</td>\n",
       "      <td>28</td>\n",
       "    </tr>\n",
       "    <tr>\n",
       "      <th>1</th>\n",
       "      <td>features[2]</td>\n",
       "      <td>731</td>\n",
       "      <td>24</td>\n",
       "      <td>26</td>\n",
       "    </tr>\n",
       "    <tr>\n",
       "      <th>12</th>\n",
       "      <td>features[13]</td>\n",
       "      <td>1563</td>\n",
       "      <td>27</td>\n",
       "      <td>30</td>\n",
       "    </tr>\n",
       "    <tr>\n",
       "      <th>15</th>\n",
       "      <td>features[16]</td>\n",
       "      <td>1405</td>\n",
       "      <td>27</td>\n",
       "      <td>30</td>\n",
       "    </tr>\n",
       "    <tr>\n",
       "      <th>39</th>\n",
       "      <td>features[40]</td>\n",
       "      <td>1183</td>\n",
       "      <td>29</td>\n",
       "      <td>32</td>\n",
       "    </tr>\n",
       "    <tr>\n",
       "      <th>7</th>\n",
       "      <td>features[8]</td>\n",
       "      <td>1262</td>\n",
       "      <td>31</td>\n",
       "      <td>36</td>\n",
       "    </tr>\n",
       "    <tr>\n",
       "      <th>4</th>\n",
       "      <td>features[5]</td>\n",
       "      <td>1053</td>\n",
       "      <td>33</td>\n",
       "      <td>37</td>\n",
       "    </tr>\n",
       "    <tr>\n",
       "      <th>32</th>\n",
       "      <td>features[33]</td>\n",
       "      <td>1053</td>\n",
       "      <td>33</td>\n",
       "      <td>37</td>\n",
       "    </tr>\n",
       "    <tr>\n",
       "      <th>23</th>\n",
       "      <td>features[24]</td>\n",
       "      <td>1071</td>\n",
       "      <td>34</td>\n",
       "      <td>38</td>\n",
       "    </tr>\n",
       "    <tr>\n",
       "      <th>35</th>\n",
       "      <td>features[36]</td>\n",
       "      <td>1180</td>\n",
       "      <td>36</td>\n",
       "      <td>39</td>\n",
       "    </tr>\n",
       "    <tr>\n",
       "      <th>38</th>\n",
       "      <td>features[39]</td>\n",
       "      <td>1592</td>\n",
       "      <td>39</td>\n",
       "      <td>43</td>\n",
       "    </tr>\n",
       "    <tr>\n",
       "      <th>28</th>\n",
       "      <td>features[29]</td>\n",
       "      <td>1333</td>\n",
       "      <td>40</td>\n",
       "      <td>46</td>\n",
       "    </tr>\n",
       "    <tr>\n",
       "      <th>36</th>\n",
       "      <td>features[37]</td>\n",
       "      <td>1263</td>\n",
       "      <td>41</td>\n",
       "      <td>46</td>\n",
       "    </tr>\n",
       "    <tr>\n",
       "      <th>34</th>\n",
       "      <td>features[35]</td>\n",
       "      <td>1267</td>\n",
       "      <td>41</td>\n",
       "      <td>46</td>\n",
       "    </tr>\n",
       "    <tr>\n",
       "      <th>20</th>\n",
       "      <td>features[21]</td>\n",
       "      <td>1528</td>\n",
       "      <td>41</td>\n",
       "      <td>47</td>\n",
       "    </tr>\n",
       "    <tr>\n",
       "      <th>17</th>\n",
       "      <td>features[18]</td>\n",
       "      <td>1559</td>\n",
       "      <td>45</td>\n",
       "      <td>50</td>\n",
       "    </tr>\n",
       "    <tr>\n",
       "      <th>5</th>\n",
       "      <td>features[6]</td>\n",
       "      <td>1621</td>\n",
       "      <td>49</td>\n",
       "      <td>56</td>\n",
       "    </tr>\n",
       "    <tr>\n",
       "      <th>31</th>\n",
       "      <td>features[32]</td>\n",
       "      <td>1692</td>\n",
       "      <td>50</td>\n",
       "      <td>56</td>\n",
       "    </tr>\n",
       "    <tr>\n",
       "      <th>21</th>\n",
       "      <td>features[22]</td>\n",
       "      <td>1548</td>\n",
       "      <td>57</td>\n",
       "      <td>68</td>\n",
       "    </tr>\n",
       "    <tr>\n",
       "      <th>19</th>\n",
       "      <td>features[20]</td>\n",
       "      <td>1565</td>\n",
       "      <td>78</td>\n",
       "      <td>95</td>\n",
       "    </tr>\n",
       "    <tr>\n",
       "      <th>43</th>\n",
       "      <td>features[44]</td>\n",
       "      <td>1009</td>\n",
       "      <td>92</td>\n",
       "      <td>106</td>\n",
       "    </tr>\n",
       "    <tr>\n",
       "      <th>44</th>\n",
       "      <td>features[45]</td>\n",
       "      <td>583</td>\n",
       "      <td>103</td>\n",
       "      <td>120</td>\n",
       "    </tr>\n",
       "    <tr>\n",
       "      <th>45</th>\n",
       "      <td>features[46]</td>\n",
       "      <td>1530</td>\n",
       "      <td>154</td>\n",
       "      <td>192</td>\n",
       "    </tr>\n",
       "  </tbody>\n",
       "</table>\n",
       "</div>"
      ],
      "text/plain": [
       "          column  outlier_count  unique_outlier_count  unique_val_count\n",
       "18  features[19]            201                     1                 2\n",
       "2    features[3]            101                     2                 3\n",
       "13  features[14]           1133                     6                 7\n",
       "6    features[7]            235                     7                 9\n",
       "8    features[9]           1330                     8                 9\n",
       "33  features[34]           1068                     9                10\n",
       "11  features[12]           2216                    12                13\n",
       "42  features[43]           4481                    13                14\n",
       "29  features[30]            845                    13                14\n",
       "30  features[31]           1022                    13                14\n",
       "22  features[23]           2971                    14                15\n",
       "9   features[10]           2654                    15                17\n",
       "24  features[25]            112                    15                17\n",
       "27  features[28]           1261                    16                19\n",
       "37  features[38]            912                    17                19\n",
       "10  features[11]           2012                    17                18\n",
       "26  features[27]            995                    18                21\n",
       "40  features[41]            269                    19                22\n",
       "16  features[17]           1097                    19                21\n",
       "41  features[42]            333                    22                25\n",
       "3    features[4]            843                    22                24\n",
       "14  features[15]           1044                    23                25\n",
       "25  features[26]           1539                    24                26\n",
       "0    features[1]           1335                    24                28\n",
       "1    features[2]            731                    24                26\n",
       "12  features[13]           1563                    27                30\n",
       "15  features[16]           1405                    27                30\n",
       "39  features[40]           1183                    29                32\n",
       "7    features[8]           1262                    31                36\n",
       "4    features[5]           1053                    33                37\n",
       "32  features[33]           1053                    33                37\n",
       "23  features[24]           1071                    34                38\n",
       "35  features[36]           1180                    36                39\n",
       "38  features[39]           1592                    39                43\n",
       "28  features[29]           1333                    40                46\n",
       "36  features[37]           1263                    41                46\n",
       "34  features[35]           1267                    41                46\n",
       "20  features[21]           1528                    41                47\n",
       "17  features[18]           1559                    45                50\n",
       "5    features[6]           1621                    49                56\n",
       "31  features[32]           1692                    50                56\n",
       "21  features[22]           1548                    57                68\n",
       "19  features[20]           1565                    78                95\n",
       "43  features[44]           1009                    92               106\n",
       "44  features[45]            583                   103               120\n",
       "45  features[46]           1530                   154               192"
      ]
     },
     "execution_count": 314,
     "metadata": {},
     "output_type": "execute_result"
    }
   ],
   "source": [
    "outlier_count_df.sort_values([\"unique_outlier_count\"], axis=0, ascending=True)"
   ]
  },
  {
   "cell_type": "markdown",
   "metadata": {},
   "source": [
    "'features[19]' seems to be a binary feature holding a value of 1 or 0 with very high 0s causing 1s to show as outliers."
   ]
  },
  {
   "cell_type": "code",
   "execution_count": 320,
   "metadata": {},
   "outputs": [
    {
     "data": {
      "image/png": "[encoded data removed]",
      "text/plain": [
       "<Figure size 432x288 with 1 Axes>"
      ]
     },
     "metadata": {
      "needs_background": "light"
     },
     "output_type": "display_data"
    }
   ],
   "source": [
    "sns.countplot(_data_p['features[3]']);"
   ]
  },
  {
   "cell_type": "markdown",
   "metadata": {},
   "source": [
    "Number of forms with feature[3] as 1 and 2 are very low, the reason why it is shown as outlier. Let's see their relationship with target variable."
   ]
  },
  {
   "cell_type": "code",
   "execution_count": 323,
   "metadata": {},
   "outputs": [
    {
     "data": {
      "image/png": "[encoded data removed]",
      "text/plain": [
       "<Figure size 432x288 with 1 Axes>"
      ]
     },
     "metadata": {
      "needs_background": "light"
     },
     "output_type": "display_data"
    }
   ],
   "source": [
    "sns.boxplot(x='features[3]', y='submission_ratio', data=_data_p);"
   ]
  },
  {
   "cell_type": "markdown",
   "metadata": {},
   "source": [
    "Clearly 'feature[3]'=2 is pushing submission ratio up!"
   ]
  },
  {
   "cell_type": "code",
   "execution_count": 324,
   "metadata": {},
   "outputs": [
    {
     "data": {
      "image/png": "[encoded data removed]",
      "text/plain": [
       "<Figure size 432x288 with 1 Axes>"
      ]
     },
     "metadata": {
      "needs_background": "light"
     },
     "output_type": "display_data"
    }
   ],
   "source": [
    "sns.boxplot(x='features[14]', y='submission_ratio', data=_data_p);"
   ]
  },
  {
   "cell_type": "code",
   "execution_count": 326,
   "metadata": {},
   "outputs": [
    {
     "data": {
      "image/png": "[encoded data removed]",
      "text/plain": [
       "<Figure size 432x288 with 1 Axes>"
      ]
     },
     "metadata": {
      "needs_background": "light"
     },
     "output_type": "display_data"
    }
   ],
   "source": [
    "sns.countplot(_data_p['features[14]']);"
   ]
  },
  {
   "cell_type": "markdown",
   "metadata": {},
   "source": [
    "Again!! it is the same scenario, one value out numbers all other values. Probably these variables are all categorical ordinal variables, looking at Z-score for outlier doesn't seem to be great idea."
   ]
  },
  {
   "cell_type": "markdown",
   "metadata": {},
   "source": [
    "Let's take a look at bottom of the outlier dataframe. The top is full of categorical variables, bottom I expect continuous variables."
   ]
  },
  {
   "cell_type": "code",
   "execution_count": 331,
   "metadata": {},
   "outputs": [
    {
     "data": {
      "image/png": "[encoded data removed]",
      "text/plain": [
       "<Figure size 432x288 with 1 Axes>"
      ]
     },
     "metadata": {
      "needs_background": "light"
     },
     "output_type": "display_data"
    }
   ],
   "source": [
    "sns.distplot(_data_p['features[46]']);"
   ]
  },
  {
   "cell_type": "code",
   "execution_count": 330,
   "metadata": {
    "scrolled": true
   },
   "outputs": [
    {
     "data": {
      "image/png": "[encoded data removed]",
      "text/plain": [
       "<Figure size 432x288 with 1 Axes>"
      ]
     },
     "metadata": {
      "needs_background": "light"
     },
     "output_type": "display_data"
    }
   ],
   "source": [
    "sns.boxplot(_data_p['features[46]']);"
   ]
  },
  {
   "cell_type": "code",
   "execution_count": 333,
   "metadata": {},
   "outputs": [
    {
     "data": {
      "image/png": "[encoded data removed]",
      "text/plain": [
       "<Figure size 432x288 with 1 Axes>"
      ]
     },
     "metadata": {
      "needs_background": "light"
     },
     "output_type": "display_data"
    }
   ],
   "source": [
    "sns.scatterplot(x='features[46]', y='submission_ratio', data=_data_p);"
   ]
  },
  {
   "cell_type": "markdown",
   "metadata": {},
   "source": [
    "Scenario did not change much either in this case as well. 'features[46]' completely skewed distribution. secondly, it does not seem to show any relation with submission ratio, though premature to conclude that way."
   ]
  },
  {
   "cell_type": "markdown",
   "metadata": {},
   "source": [
    "I don't want to treat outliers right now. If I have better knowledge about these features it is easier to understand these patterns to setup right outlier treatment. "
   ]
  },
  {
   "cell_type": "markdown",
   "metadata": {},
   "source": [
    "### Correlations\n",
    "\n",
    "Lets look into how features are correlated. One of the methods is Pearson correlation coefficient.It can give a sense of linear relationship between variables but cannot capture non-linear relationship. \n"
   ]
  },
  {
   "cell_type": "code",
   "execution_count": 179,
   "metadata": {},
   "outputs": [],
   "source": [
    "correlations = _data_p.corr()['submission_ratio'].sort_values().reset_index()"
   ]
  },
  {
   "cell_type": "code",
   "execution_count": 177,
   "metadata": {},
   "outputs": [],
   "source": [
    "correlations.drop(axis = 0,index=48, inplace=True)"
   ]
  },
  {
   "cell_type": "code",
   "execution_count": 180,
   "metadata": {},
   "outputs": [
    {
     "data": {
      "text/plain": [
       "Text(0.5, 1.0, 'correlation data by feature to target')"
      ]
     },
     "execution_count": 180,
     "metadata": {},
     "output_type": "execute_result"
    },
    {
     "data": {
      "image/png": "[encoded data removed]",
      "text/plain": [
       "<Figure size 1080x720 with 1 Axes>"
      ]
     },
     "metadata": {
      "needs_background": "light"
     },
     "output_type": "display_data"
    }
   ],
   "source": [
    "f,ax =plt.subplots(figsize=(15,10))\n",
    "plt.xticks(rotation='90')\n",
    "fig=sns.barplot(correlations['index'], correlations[\"submission_ratio\"],color=\"green\",alpha=0.8)\n",
    "plt.xlabel('Features', fontsize=15)\n",
    "plt.ylabel('Correlation', fontsize=15)\n",
    "plt.title('correlation data by feature to target', fontsize=15)"
   ]
  },
  {
   "cell_type": "markdown",
   "metadata": {},
   "source": [
    "Features 0, 27, 42 seems to have least correlation with target, 18,5,32,33 have relatively higher positive correlation, 8,7,14,21 have relatively high negative correlation. But, overall relationship seems to be quite weak."
   ]
  },
  {
   "cell_type": "code",
   "execution_count": 182,
   "metadata": {
    "scrolled": true
   },
   "outputs": [
    {
     "data": {
      "text/plain": [
       "form_id             103416\n",
       "views                 5681\n",
       "submissions           3608\n",
       "features[0]              2\n",
       "features[1]             26\n",
       "features[2]             25\n",
       "features[3]              3\n",
       "features[4]             20\n",
       "features[5]             39\n",
       "features[6]             56\n",
       "features[7]              9\n",
       "features[8]             32\n",
       "features[9]              9\n",
       "features[10]            22\n",
       "features[11]            18\n",
       "features[12]            13\n",
       "features[13]            28\n",
       "features[14]             9\n",
       "features[15]            28\n",
       "features[16]            33\n",
       "features[17]            25\n",
       "features[18]            42\n",
       "features[19]             2\n",
       "features[20]            91\n",
       "features[21]            45\n",
       "features[22]            65\n",
       "features[23]            14\n",
       "features[24]            39\n",
       "features[25]            13\n",
       "features[26]            23\n",
       "features[27]            21\n",
       "features[28]            20\n",
       "features[29]            47\n",
       "features[30]            15\n",
       "features[31]            14\n",
       "features[32]            47\n",
       "features[33]            39\n",
       "features[34]            12\n",
       "features[35]            39\n",
       "features[36]            35\n",
       "features[37]            39\n",
       "features[38]            22\n",
       "features[39]            40\n",
       "features[40]            31\n",
       "features[41]            21\n",
       "features[42]            21\n",
       "features[43]            12\n",
       "features[44]           105\n",
       "features[45]           116\n",
       "features[46]           193\n",
       "submission_ratio     28889\n",
       "dtype: int64"
      ]
     },
     "execution_count": 182,
     "metadata": {},
     "output_type": "execute_result"
    }
   ],
   "source": [
    "_data_p.nunique()"
   ]
  },
  {
   "cell_type": "markdown",
   "metadata": {},
   "source": [
    "## Multicollinearity"
   ]
  },
  {
   "cell_type": "code",
   "execution_count": 360,
   "metadata": {},
   "outputs": [],
   "source": [
    "from pandas.plotting import scatter_matrix\n",
    "corr = _data_p.corr()"
   ]
  },
  {
   "cell_type": "code",
   "execution_count": 364,
   "metadata": {
    "scrolled": true
   },
   "outputs": [
    {
     "data": {
      "image/png": "[encoded data removed]",
      "text/plain": [
       "<Figure size 576x432 with 2 Axes>"
      ]
     },
     "metadata": {
      "needs_background": "light"
     },
     "output_type": "display_data"
    }
   ],
   "source": [
    "plt.figure(figsize = (8, 6))\n",
    "sns.heatmap(corr, cmap = plt.cm.RdYlBu_r, vmin = -0.25, annot = False, vmax = 0.6)\n",
    "plt.title('Correlation Heatmap');"
   ]
  },
  {
   "cell_type": "markdown",
   "metadata": {},
   "source": [
    "We could see there are some Dark Red and Dark blue spots. It looks like there is Multicollinearity among some variables."
   ]
  },
  {
   "cell_type": "markdown",
   "metadata": {},
   "source": [
    "Correlation plot can show only Multicollinearity resulting from linear relationship between pairs of variables, but it cannot capture Multicollinearity resulting from multi dimensional and non-linear relationship. A technique to find out such variables is using VIF."
   ]
  },
  {
   "cell_type": "code",
   "execution_count": 376,
   "metadata": {},
   "outputs": [],
   "source": [
    "from sklearn.base import BaseEstimator, TransformerMixin\n",
    "from sklearn.preprocessing import MinMaxScaler, Imputer\n",
    "from statsmodels.stats.outliers_influence import variance_inflation_factor\n",
    "class ReduceVIF(BaseEstimator, TransformerMixin):\n",
    "    def __init__(self, thresh=5.0, impute=True, impute_strategy='median'):\n",
    "        # From looking at documentation, values between 5 and 10 are \"okay\".\n",
    "        # Above 10 is too high and so should be removed.\n",
    "        self.thresh = thresh\n",
    "        \n",
    "        # The statsmodel function will fail with NaN values, as such we have to impute them.\n",
    "        # By default we impute using the median value.\n",
    "        # This imputation could be taken out and added as part of an sklearn Pipeline.\n",
    "        if impute:\n",
    "            self.imputer = Imputer(strategy=impute_strategy)\n",
    "\n",
    "    def fit(self, X, y=None):\n",
    "        print('ReduceVIF fit')\n",
    "        if hasattr(self, 'imputer'):\n",
    "            self.imputer.fit(X)\n",
    "        return self\n",
    "\n",
    "    def transform(self, X, y=None):\n",
    "        print('ReduceVIF transform')\n",
    "        columns = X.columns.tolist()\n",
    "        if hasattr(self, 'imputer'):\n",
    "            X = pd.DataFrame(self.imputer.transform(X), columns=columns)\n",
    "        return ReduceVIF.calculate_vif(X, self.thresh)\n",
    "\n",
    "    @staticmethod\n",
    "    def calculate_vif(X, thresh=5.0):\n",
    "        dropped=True\n",
    "        while dropped:\n",
    "            variables = X.columns\n",
    "            dropped = False\n",
    "            vif = [variance_inflation_factor(X[variables].values, X.columns.get_loc(var)) for var in X.columns]\n",
    "            \n",
    "            max_vif = max(vif)\n",
    "            if max_vif > thresh:\n",
    "                maxloc = vif.index(max_vif)\n",
    "                print(f'Dropping {X.columns[maxloc]} with vif={max_vif}')\n",
    "                X = X.drop([X.columns.tolist()[maxloc]], axis=1)\n",
    "                dropped=True\n",
    "        return X"
   ]
  },
  {
   "cell_type": "code",
   "execution_count": 377,
   "metadata": {
    "scrolled": true
   },
   "outputs": [
    {
     "name": "stdout",
     "output_type": "stream",
     "text": [
      "ReduceVIF fit\n",
      "ReduceVIF transform\n"
     ]
    },
    {
     "name": "stderr",
     "output_type": "stream",
     "text": [
      "/anaconda3/lib/python3.7/site-packages/statsmodels/stats/outliers_influence.py:181: RuntimeWarning: divide by zero encountered in double_scalars\n",
      "  vif = 1. / (1. - r_squared_i)\n"
     ]
    },
    {
     "name": "stdout",
     "output_type": "stream",
     "text": [
      "Dropping features[5] with vif=inf\n",
      "Dropping features[20] with vif=1691.7893919774099\n",
      "Dropping features[42] with vif=1277.8550605231192\n",
      "Dropping features[35] with vif=485.82233666993034\n",
      "Dropping features[32] with vif=167.94795504176108\n",
      "Dropping features[41] with vif=7.395021827872543\n",
      "Dropping features[17] with vif=6.577673785092677\n",
      "Dropping features[18] with vif=6.521349699244301\n",
      "Dropping features[6] with vif=6.1513575722971225\n"
     ]
    },
    {
     "data": {
      "text/html": [
       "<div>\n",
       "<style scoped>\n",
       "    .dataframe tbody tr th:only-of-type {\n",
       "        vertical-align: middle;\n",
       "    }\n",
       "\n",
       "    .dataframe tbody tr th {\n",
       "        vertical-align: top;\n",
       "    }\n",
       "\n",
       "    .dataframe thead th {\n",
       "        text-align: right;\n",
       "    }\n",
       "</style>\n",
       "<table border=\"1\" class=\"dataframe\">\n",
       "  <thead>\n",
       "    <tr style=\"text-align: right;\">\n",
       "      <th></th>\n",
       "      <th>form_id</th>\n",
       "      <th>features[0]</th>\n",
       "      <th>features[1]</th>\n",
       "      <th>features[2]</th>\n",
       "      <th>features[3]</th>\n",
       "      <th>features[4]</th>\n",
       "      <th>features[7]</th>\n",
       "      <th>features[8]</th>\n",
       "      <th>features[9]</th>\n",
       "      <th>features[10]</th>\n",
       "      <th>...</th>\n",
       "      <th>features[34]</th>\n",
       "      <th>features[36]</th>\n",
       "      <th>features[37]</th>\n",
       "      <th>features[38]</th>\n",
       "      <th>features[39]</th>\n",
       "      <th>features[40]</th>\n",
       "      <th>features[43]</th>\n",
       "      <th>features[44]</th>\n",
       "      <th>features[45]</th>\n",
       "      <th>features[46]</th>\n",
       "    </tr>\n",
       "  </thead>\n",
       "  <tbody>\n",
       "    <tr>\n",
       "      <th>0</th>\n",
       "      <td>1135259.0</td>\n",
       "      <td>1.0</td>\n",
       "      <td>0.0</td>\n",
       "      <td>0.0</td>\n",
       "      <td>0.0</td>\n",
       "      <td>0.0</td>\n",
       "      <td>0.0</td>\n",
       "      <td>0.0</td>\n",
       "      <td>0.0</td>\n",
       "      <td>0.0</td>\n",
       "      <td>...</td>\n",
       "      <td>0.0</td>\n",
       "      <td>0.0</td>\n",
       "      <td>0.0</td>\n",
       "      <td>0.0</td>\n",
       "      <td>0.0</td>\n",
       "      <td>0.0</td>\n",
       "      <td>0.0</td>\n",
       "      <td>0.0</td>\n",
       "      <td>0.0</td>\n",
       "      <td>7.0</td>\n",
       "    </tr>\n",
       "    <tr>\n",
       "      <th>1</th>\n",
       "      <td>1145334.0</td>\n",
       "      <td>1.0</td>\n",
       "      <td>0.0</td>\n",
       "      <td>0.0</td>\n",
       "      <td>0.0</td>\n",
       "      <td>0.0</td>\n",
       "      <td>0.0</td>\n",
       "      <td>0.0</td>\n",
       "      <td>0.0</td>\n",
       "      <td>0.0</td>\n",
       "      <td>...</td>\n",
       "      <td>0.0</td>\n",
       "      <td>0.0</td>\n",
       "      <td>0.0</td>\n",
       "      <td>0.0</td>\n",
       "      <td>0.0</td>\n",
       "      <td>0.0</td>\n",
       "      <td>0.0</td>\n",
       "      <td>0.0</td>\n",
       "      <td>0.0</td>\n",
       "      <td>4.0</td>\n",
       "    </tr>\n",
       "    <tr>\n",
       "      <th>2</th>\n",
       "      <td>1161283.0</td>\n",
       "      <td>0.0</td>\n",
       "      <td>0.0</td>\n",
       "      <td>0.0</td>\n",
       "      <td>0.0</td>\n",
       "      <td>0.0</td>\n",
       "      <td>0.0</td>\n",
       "      <td>0.0</td>\n",
       "      <td>0.0</td>\n",
       "      <td>0.0</td>\n",
       "      <td>...</td>\n",
       "      <td>0.0</td>\n",
       "      <td>0.0</td>\n",
       "      <td>0.0</td>\n",
       "      <td>0.0</td>\n",
       "      <td>0.0</td>\n",
       "      <td>0.0</td>\n",
       "      <td>0.0</td>\n",
       "      <td>0.0</td>\n",
       "      <td>0.0</td>\n",
       "      <td>15.0</td>\n",
       "    </tr>\n",
       "    <tr>\n",
       "      <th>3</th>\n",
       "      <td>1213407.0</td>\n",
       "      <td>1.0</td>\n",
       "      <td>0.0</td>\n",
       "      <td>0.0</td>\n",
       "      <td>0.0</td>\n",
       "      <td>0.0</td>\n",
       "      <td>0.0</td>\n",
       "      <td>1.0</td>\n",
       "      <td>0.0</td>\n",
       "      <td>0.0</td>\n",
       "      <td>...</td>\n",
       "      <td>0.0</td>\n",
       "      <td>0.0</td>\n",
       "      <td>0.0</td>\n",
       "      <td>0.0</td>\n",
       "      <td>0.0</td>\n",
       "      <td>0.0</td>\n",
       "      <td>0.0</td>\n",
       "      <td>0.0</td>\n",
       "      <td>0.0</td>\n",
       "      <td>4.0</td>\n",
       "    </tr>\n",
       "    <tr>\n",
       "      <th>4</th>\n",
       "      <td>1213844.0</td>\n",
       "      <td>0.0</td>\n",
       "      <td>1.0</td>\n",
       "      <td>0.0</td>\n",
       "      <td>0.0</td>\n",
       "      <td>0.0</td>\n",
       "      <td>0.0</td>\n",
       "      <td>0.0</td>\n",
       "      <td>0.0</td>\n",
       "      <td>0.0</td>\n",
       "      <td>...</td>\n",
       "      <td>0.0</td>\n",
       "      <td>0.0</td>\n",
       "      <td>0.0</td>\n",
       "      <td>0.0</td>\n",
       "      <td>0.0</td>\n",
       "      <td>0.0</td>\n",
       "      <td>0.0</td>\n",
       "      <td>0.0</td>\n",
       "      <td>0.0</td>\n",
       "      <td>9.0</td>\n",
       "    </tr>\n",
       "  </tbody>\n",
       "</table>\n",
       "<p>5 rows × 39 columns</p>\n",
       "</div>"
      ],
      "text/plain": [
       "     form_id  features[0]  features[1]  features[2]  features[3]  features[4]  \\\n",
       "0  1135259.0          1.0          0.0          0.0          0.0          0.0   \n",
       "1  1145334.0          1.0          0.0          0.0          0.0          0.0   \n",
       "2  1161283.0          0.0          0.0          0.0          0.0          0.0   \n",
       "3  1213407.0          1.0          0.0          0.0          0.0          0.0   \n",
       "4  1213844.0          0.0          1.0          0.0          0.0          0.0   \n",
       "\n",
       "   features[7]  features[8]  features[9]  features[10]  ...  features[34]  \\\n",
       "0          0.0          0.0          0.0           0.0  ...           0.0   \n",
       "1          0.0          0.0          0.0           0.0  ...           0.0   \n",
       "2          0.0          0.0          0.0           0.0  ...           0.0   \n",
       "3          0.0          1.0          0.0           0.0  ...           0.0   \n",
       "4          0.0          0.0          0.0           0.0  ...           0.0   \n",
       "\n",
       "   features[36]  features[37]  features[38]  features[39]  features[40]  \\\n",
       "0           0.0           0.0           0.0           0.0           0.0   \n",
       "1           0.0           0.0           0.0           0.0           0.0   \n",
       "2           0.0           0.0           0.0           0.0           0.0   \n",
       "3           0.0           0.0           0.0           0.0           0.0   \n",
       "4           0.0           0.0           0.0           0.0           0.0   \n",
       "\n",
       "   features[43]  features[44]  features[45]  features[46]  \n",
       "0           0.0           0.0           0.0           7.0  \n",
       "1           0.0           0.0           0.0           4.0  \n",
       "2           0.0           0.0           0.0          15.0  \n",
       "3           0.0           0.0           0.0           4.0  \n",
       "4           0.0           0.0           0.0           9.0  \n",
       "\n",
       "[5 rows x 39 columns]"
      ]
     },
     "execution_count": 377,
     "metadata": {},
     "output_type": "execute_result"
    }
   ],
   "source": [
    "transformer = ReduceVIF()\n",
    "\n",
    "_data_p_novif = transformer.fit_transform(_data_p.loc[:,_data_p.columns!='submission_ratio'], _data_p['submission_ratio'])\n",
    "\n",
    "_data_p_novif.head()"
   ]
  },
  {
   "cell_type": "code",
   "execution_count": 379,
   "metadata": {},
   "outputs": [
    {
     "name": "stderr",
     "output_type": "stream",
     "text": [
      "/anaconda3/lib/python3.7/site-packages/seaborn/axisgrid.py:2065: UserWarning: The `size` parameter has been renamed to `height`; pleaes update your code.\n",
      "  warnings.warn(msg, UserWarning)\n"
     ]
    },
    {
     "data": {
      "image/png": "[encoded data removed]",
      "text/plain": [
       "<Figure size 1080x1080 with 42 Axes>"
      ]
     },
     "metadata": {},
     "output_type": "display_data"
    }
   ],
   "source": [
    "sns.set()\n",
    "cols = ['features[34]', 'features[35]', 'features[36]', 'features[37]', 'features[38]', 'submission_ratio']\n",
    "sns.pairplot(_data_p[cols], height = 2.5)\n",
    "plt.show();"
   ]
  },
  {
   "cell_type": "markdown",
   "metadata": {},
   "source": [
    "There are 9 features with Variable Inflation factor more than 5, created new dataframe by dropping them. During modeling we can evaluate model performance with and without these variables. For some models like KNN it does not really matter, for models like linear regression these can be big deal!"
   ]
  },
  {
   "cell_type": "markdown",
   "metadata": {},
   "source": [
    "# Modeling"
   ]
  },
  {
   "cell_type": "markdown",
   "metadata": {},
   "source": [
    "## Data Preparation"
   ]
  },
  {
   "cell_type": "markdown",
   "metadata": {},
   "source": [
    "I'm considering only 1% sample of 1 Million rows that are provided to get the results faster with my machine. Beyond 1% my kernel crashing."
   ]
  },
  {
   "cell_type": "code",
   "execution_count": 59,
   "metadata": {},
   "outputs": [],
   "source": [
    "data_sample = data.sample(False, 0.02, seed = 20)"
   ]
  },
  {
   "cell_type": "code",
   "execution_count": 18,
   "metadata": {},
   "outputs": [],
   "source": [
    "del data"
   ]
  },
  {
   "cell_type": "code",
   "execution_count": 123,
   "metadata": {},
   "outputs": [
    {
     "data": {
      "text/plain": [
       "70332"
      ]
     },
     "execution_count": 123,
     "metadata": {},
     "output_type": "execute_result"
    }
   ],
   "source": [
    "import gc\n",
    "gc.collect()"
   ]
  },
  {
   "cell_type": "code",
   "execution_count": 124,
   "metadata": {},
   "outputs": [],
   "source": [
    "from pyspark.ml.feature import VectorAssembler\n",
    "feature_columns = data_sample.columns[3:-1]\n",
    "assembler = VectorAssembler(inputCols=feature_columns,outputCol=\"features\")"
   ]
  },
  {
   "cell_type": "code",
   "execution_count": 125,
   "metadata": {},
   "outputs": [],
   "source": [
    "data_ready = assembler.transform(data_sample)"
   ]
  },
  {
   "cell_type": "code",
   "execution_count": 126,
   "metadata": {},
   "outputs": [],
   "source": [
    "del data_sample"
   ]
  },
  {
   "cell_type": "code",
   "execution_count": 127,
   "metadata": {
    "scrolled": true
   },
   "outputs": [
    {
     "data": {
      "text/html": [
       "<div>\n",
       "<style scoped>\n",
       "    .dataframe tbody tr th:only-of-type {\n",
       "        vertical-align: middle;\n",
       "    }\n",
       "\n",
       "    .dataframe tbody tr th {\n",
       "        vertical-align: top;\n",
       "    }\n",
       "\n",
       "    .dataframe thead th {\n",
       "        text-align: right;\n",
       "    }\n",
       "</style>\n",
       "<table border=\"1\" class=\"dataframe\">\n",
       "  <thead>\n",
       "    <tr style=\"text-align: right;\">\n",
       "      <th></th>\n",
       "      <th>form_id</th>\n",
       "      <th>submission_ratio</th>\n",
       "      <th>features</th>\n",
       "    </tr>\n",
       "  </thead>\n",
       "  <tbody>\n",
       "    <tr>\n",
       "      <th>0</th>\n",
       "      <td>1797676</td>\n",
       "      <td>0.078030</td>\n",
       "      <td>(0.0, 2.0, 0.0, 0.0, 0.0, 0.0, 1.0, 0.0, 0.0, ...</td>\n",
       "    </tr>\n",
       "    <tr>\n",
       "      <th>1</th>\n",
       "      <td>4492203</td>\n",
       "      <td>0.096870</td>\n",
       "      <td>(0.0, 0.0, 0.0, 0.0, 1.0, 0.0, 1.0, 0.0, 3.0, ...</td>\n",
       "    </tr>\n",
       "    <tr>\n",
       "      <th>2</th>\n",
       "      <td>11035845</td>\n",
       "      <td>0.054591</td>\n",
       "      <td>(1.0, 1.0, 0.0, 0.0, 0.0, 0.0, 0.0, 0.0, 1.0, ...</td>\n",
       "    </tr>\n",
       "    <tr>\n",
       "      <th>3</th>\n",
       "      <td>12755940</td>\n",
       "      <td>0.057725</td>\n",
       "      <td>(0.0, 0.0, 0.0, 0.0, 0.0, 0.0, 0.0, 1.0, 0.0, ...</td>\n",
       "    </tr>\n",
       "    <tr>\n",
       "      <th>4</th>\n",
       "      <td>3043471</td>\n",
       "      <td>0.090670</td>\n",
       "      <td>(0.0, 0.0, 0.0, 0.0, 0.0, 0.0, 0.0, 0.0, 0.0, ...</td>\n",
       "    </tr>\n",
       "  </tbody>\n",
       "</table>\n",
       "</div>"
      ],
      "text/plain": [
       "    form_id  submission_ratio  \\\n",
       "0   1797676          0.078030   \n",
       "1   4492203          0.096870   \n",
       "2  11035845          0.054591   \n",
       "3  12755940          0.057725   \n",
       "4   3043471          0.090670   \n",
       "\n",
       "                                            features  \n",
       "0  (0.0, 2.0, 0.0, 0.0, 0.0, 0.0, 1.0, 0.0, 0.0, ...  \n",
       "1  (0.0, 0.0, 0.0, 0.0, 1.0, 0.0, 1.0, 0.0, 3.0, ...  \n",
       "2  (1.0, 1.0, 0.0, 0.0, 0.0, 0.0, 0.0, 0.0, 1.0, ...  \n",
       "3  (0.0, 0.0, 0.0, 0.0, 0.0, 0.0, 0.0, 1.0, 0.0, ...  \n",
       "4  (0.0, 0.0, 0.0, 0.0, 0.0, 0.0, 0.0, 0.0, 0.0, ...  "
      ]
     },
     "execution_count": 127,
     "metadata": {},
     "output_type": "execute_result"
    }
   ],
   "source": [
    "data_ready.select('form_id','submission_ratio','features').limit(5).toPandas()"
   ]
  },
  {
   "cell_type": "code",
   "execution_count": 24,
   "metadata": {},
   "outputs": [],
   "source": [
    "scaler = StandardScaler(inputCol=\"features\", outputCol=\"scaled_features\")"
   ]
  },
  {
   "cell_type": "code",
   "execution_count": 25,
   "metadata": {},
   "outputs": [],
   "source": [
    "scaler_tran = scaler.fit(data_ready)"
   ]
  },
  {
   "cell_type": "code",
   "execution_count": 26,
   "metadata": {},
   "outputs": [],
   "source": [
    "data_ready = scaler_tran.transform(data_ready)"
   ]
  },
  {
   "cell_type": "code",
   "execution_count": 128,
   "metadata": {},
   "outputs": [],
   "source": [
    "train, test = data_ready.randomSplit([0.8, 0.2])"
   ]
  },
  {
   "cell_type": "markdown",
   "metadata": {},
   "source": [
    "## Baseline Model"
   ]
  },
  {
   "cell_type": "markdown",
   "metadata": {},
   "source": [
    "Let's quickly build a Linear Regression model for baseline."
   ]
  },
  {
   "cell_type": "code",
   "execution_count": 36,
   "metadata": {},
   "outputs": [],
   "source": [
    "from pyspark.ml.regression import LinearRegression\n",
    "lr = LinearRegression(featuresCol=\"features\", labelCol=\"submission_ratio\")\n",
    "linearModel = lr.fit(train)"
   ]
  },
  {
   "cell_type": "code",
   "execution_count": 37,
   "metadata": {},
   "outputs": [],
   "source": [
    "evaluation_summary = linearModel.evaluate(test)"
   ]
  },
  {
   "cell_type": "code",
   "execution_count": 58,
   "metadata": {},
   "outputs": [
    {
     "name": "stdout",
     "output_type": "stream",
     "text": [
      "MAE: 0.178161571554851\n",
      "RMSE: 0.21671864248353478\n",
      "R2: 0.06273113002844832\n"
     ]
    }
   ],
   "source": [
    "print(\"MAE: \"+str(evaluation_summary.meanAbsoluteError))\n",
    "print(\"RMSE: \"+str(evaluation_summary.rootMeanSquaredError))\n",
    "print(\"R2: \"+str(evaluation_summary.r2))"
   ]
  },
  {
   "cell_type": "code",
   "execution_count": 41,
   "metadata": {},
   "outputs": [],
   "source": [
    "predicted = linearModel.transform(test)"
   ]
  },
  {
   "cell_type": "code",
   "execution_count": 50,
   "metadata": {},
   "outputs": [
    {
     "name": "stdout",
     "output_type": "stream",
     "text": [
      "+-------------------+\n",
      "|         prediction|\n",
      "+-------------------+\n",
      "| 0.4982799865735934|\n",
      "| 0.5975101446717778|\n",
      "|0.46883196540217176|\n",
      "|  0.533628067956949|\n",
      "| 0.5185797520266083|\n",
      "|0.39171841686618913|\n",
      "|  0.560338527974936|\n",
      "| 0.5380407789752387|\n",
      "| 0.5133725442373676|\n",
      "| 0.5286320063854195|\n",
      "| 0.5256123353936138|\n",
      "| 0.5225407988507058|\n",
      "| 0.5306898024640168|\n",
      "| 0.5300324388994778|\n",
      "| 0.4504297076048945|\n",
      "| 0.5298934964238794|\n",
      "|0.48813525465367197|\n",
      "| 0.5528174029562607|\n",
      "| 0.5219279158381149|\n",
      "|0.41522620112877834|\n",
      "+-------------------+\n",
      "only showing top 20 rows\n",
      "\n"
     ]
    }
   ],
   "source": [
    "predicted.select('prediction').show()"
   ]
  },
  {
   "cell_type": "code",
   "execution_count": 51,
   "metadata": {},
   "outputs": [],
   "source": [
    "_predicted_p = predicted.toPandas()"
   ]
  },
  {
   "cell_type": "code",
   "execution_count": 53,
   "metadata": {},
   "outputs": [
    {
     "data": {
      "text/plain": [
       "<matplotlib.axes._subplots.AxesSubplot at 0x1a1db998d0>"
      ]
     },
     "execution_count": 53,
     "metadata": {},
     "output_type": "execute_result"
    },
    {
     "data": {
      "image/png": "[encoded data removed]",
      "text/plain": [
       "<Figure size 432x288 with 1 Axes>"
      ]
     },
     "metadata": {
      "needs_background": "light"
     },
     "output_type": "display_data"
    }
   ],
   "source": [
    "sns.scatterplot(x='prediction', y='submission_ratio', data=_predicted_p)"
   ]
  },
  {
   "cell_type": "markdown",
   "metadata": {},
   "source": [
    "Lets keep these metrics as Baseline and explore more complex models. This model is quite poor, Need to keep in mind about the data supplied, it is just 30k samples."
   ]
  },
  {
   "cell_type": "markdown",
   "metadata": {},
   "source": [
    "## Random Forest\n",
    "Let's try random forest model to see how it fares with the limited dataset."
   ]
  },
  {
   "cell_type": "code",
   "execution_count": 20,
   "metadata": {},
   "outputs": [],
   "source": [
    "from pyspark.ml.regression import RandomForestRegressor\n",
    "rf = RandomForestRegressor(featuresCol='features', labelCol=\"submission_ratio\")"
   ]
  },
  {
   "cell_type": "code",
   "execution_count": null,
   "metadata": {},
   "outputs": [],
   "source": [
    "rfModel = rf.fit(train)"
   ]
  },
  {
   "cell_type": "code",
   "execution_count": 62,
   "metadata": {},
   "outputs": [
    {
     "name": "stdout",
     "output_type": "stream",
     "text": [
      "Root Mean Squared Error (RMSE) on test data = 0.214355\n"
     ]
    }
   ],
   "source": [
    "predicted = rfModel.transform(test)\n",
    "rf_evaluator = RegressionEvaluator(\n",
    "    labelCol=\"submission_ratio\", predictionCol=\"prediction\", metricName=\"rmse\")\n",
    "rmse = rf_evaluator.evaluate(predicted)\n",
    "print(\"Root Mean Squared Error (RMSE) on test data = %g\" % rmse)"
   ]
  },
  {
   "cell_type": "markdown",
   "metadata": {},
   "source": [
    "This is not much improvement either. It would perform a bit better if I sample bigger dataset. Performance can be further pumped up using RandomizedSearchCV followed by GridSearchCV for hyperparameter tuning."
   ]
  },
  {
   "cell_type": "markdown",
   "metadata": {},
   "source": [
    "## Pipeline and Parameter Tuning"
   ]
  },
  {
   "cell_type": "markdown",
   "metadata": {},
   "source": [
    "Here I'm building a pipeline with assembler and random forest regressor. Next built a parameter grid in to search better hyperparameters. \n",
    "3-Fold cross validation is employed to evaluate regression model."
   ]
  },
  {
   "cell_type": "code",
   "execution_count": 21,
   "metadata": {},
   "outputs": [],
   "source": [
    "pipeline = Pipeline(stages=[assembler, rf])\n",
    "\n",
    "paramGrid = ParamGridBuilder() \\\n",
    "    .addGrid(rf.numTrees, [int(x) for x in np.linspace(start = 10, stop = 50, num = 2)]) \\\n",
    "    .addGrid(rf.maxDepth, [int(x) for x in np.linspace(start = 5, stop = 25, num = 2)]) \\\n",
    "    .build()\n",
    "\n",
    "evaluator = RegressionEvaluator(\n",
    "    predictionCol='prediction',\n",
    "    labelCol='submission_ratio',\n",
    "    metricName='rmse',\n",
    ")\n",
    "crossval = CrossValidator(estimator=pipeline,\\\n",
    "                          estimatorParamMaps=paramGrid,\\\n",
    "                          evaluator=evaluator,\\\n",
    "                          numFolds=3)"
   ]
  },
  {
   "cell_type": "code",
   "execution_count": 22,
   "metadata": {},
   "outputs": [],
   "source": [
    "train, test = data_sample.randomSplit([0.8, 0.2])"
   ]
  },
  {
   "cell_type": "code",
   "execution_count": 23,
   "metadata": {},
   "outputs": [],
   "source": [
    "cv_model = crossval.fit(train)"
   ]
  },
  {
   "cell_type": "code",
   "execution_count": 24,
   "metadata": {},
   "outputs": [],
   "source": [
    "predictions = cv_model.transform(test)"
   ]
  },
  {
   "cell_type": "code",
   "execution_count": 28,
   "metadata": {},
   "outputs": [
    {
     "data": {
      "image/png": "[encoded data removed]",
      "text/plain": [
       "<Figure size 432x288 with 1 Axes>"
      ]
     },
     "metadata": {
      "needs_background": "light"
     },
     "output_type": "display_data"
    }
   ],
   "source": [
    "rmse = evaluator.evaluate(predictions)\n",
    "rfPred = cv_model.transform(test)\n",
    "rfResult = rfPred.toPandas()\n",
    "\n",
    "plt.plot(rfResult.submission_ratio, rfResult.prediction, 'bo')\n",
    "plt.xlabel('submission_ratio')\n",
    "plt.ylabel('Prediction')\n",
    "plt.suptitle(\"Model Performance RMSE: %f\" % rmse)\n",
    "plt.show()"
   ]
  },
  {
   "cell_type": "markdown",
   "metadata": {},
   "source": [
    "Slight improvement in model performance, but looking at this plot it doesn't seem to have learned good pattern."
   ]
  },
  {
   "cell_type": "markdown",
   "metadata": {},
   "source": [
    "#### Feature Importances"
   ]
  },
  {
   "cell_type": "code",
   "execution_count": 41,
   "metadata": {},
   "outputs": [
    {
     "data": {
      "image/png": "[encoded data removed]",
      "text/plain": [
       "<Figure size 1440x720 with 1 Axes>"
      ]
     },
     "metadata": {
      "needs_background": "light"
     },
     "output_type": "display_data"
    }
   ],
   "source": [
    "\n",
    "bestPipeline = cv_model.bestModel\n",
    "bestModel = bestPipeline.stages[1]\n",
    "\n",
    "importances = bestModel.featureImportances\n",
    "\n",
    "x_values = list(range(len(importances)))\n",
    "plt.figure(figsize = (20, 10))\n",
    "plt.bar(x_values, importances, orientation = 'vertical')\n",
    "plt.xticks(x_values, feature_columns, rotation=40)\n",
    "plt.ylabel('Importance')\n",
    "plt.xlabel('Feature')\n",
    "plt.title('Feature Importances');\n"
   ]
  },
  {
   "cell_type": "markdown",
   "metadata": {},
   "source": [
    "Features 7,8,21,22,32 and 33 have highest importance."
   ]
  },
  {
   "cell_type": "markdown",
   "metadata": {},
   "source": [
    "# Deep Learning"
   ]
  },
  {
   "cell_type": "markdown",
   "metadata": {},
   "source": [
    "Since one of the recommendation  for this assignment is using Deep Learning here I'm going to use a deep learning model, I'm sure it might just over fit because of the size of sample I'm training on (10k samples).\n",
    "\n",
    "I'm going to pick a fully connected neural nework. CNNs or RNNs doesn't seem to be needed for this problem."
   ]
  },
  {
   "cell_type": "code",
   "execution_count": 67,
   "metadata": {},
   "outputs": [],
   "source": [
    "from pyspark.ml.feature import Bucketizer\n",
    "bucketizer = Bucketizer(splits=[ 0, 0.1, 0.2, 0.3, 0.4, 0.5, 0.6, 0.7, 0.8, 0.9, 1, float('Inf') ],inputCol=\"submission_ratio\", outputCol=\"submission_bucket\")\n",
    "df_buck = bucketizer.setHandleInvalid(\"keep\").transform(train)\n"
   ]
  },
  {
   "cell_type": "code",
   "execution_count": 68,
   "metadata": {},
   "outputs": [
    {
     "data": {
      "text/plain": [
       "8440"
      ]
     },
     "execution_count": 68,
     "metadata": {},
     "output_type": "execute_result"
    }
   ],
   "source": [
    "df_buck.count()"
   ]
  },
  {
   "cell_type": "code",
   "execution_count": 129,
   "metadata": {},
   "outputs": [],
   "source": [
    "nb_classes = df_buck.select(\"submission_ratio\").distinct().count()\n",
    "\n",
    "# Number of Inputs or Input Dimensions\n",
    "input_dim = len(df_buck.select(\"features\").first()[0])"
   ]
  },
  {
   "cell_type": "code",
   "execution_count": 130,
   "metadata": {},
   "outputs": [],
   "source": [
    "from keras.models import Sequential\n",
    "from keras.layers.core import Dense, Dropout, Activation\n",
    "from keras.optimizers import SGD\n",
    "\n",
    "# Set up Deep Learning Model / Architecture\n",
    "model = Sequential()\n",
    "model.add(Dense(47, input_shape=(input_dim,)))\n",
    "model.add(Activation('relu'))\n",
    "model.add(Dropout(rate=0.1))\n",
    "model.add(Dense(30))\n",
    "model.add(Activation('relu'))\n",
    "model.add(Dropout(rate=0.1))\n",
    "model.add(Dense(nb_classes))\n",
    "model.add(Activation('softmax'))\n",
    "model.compile(loss='categorical_crossentropy', optimizer='adam')"
   ]
  },
  {
   "cell_type": "code",
   "execution_count": 131,
   "metadata": {},
   "outputs": [
    {
     "data": {
      "text/plain": [
       "ElephasEstimator_95b0f8a4b13a"
      ]
     },
     "execution_count": 131,
     "metadata": {},
     "output_type": "execute_result"
    }
   ],
   "source": [
    "\n",
    "# Set and Serialize Optimizer\n",
    "optimizer_conf = optimizers.Adam(lr=0.01)\n",
    "opt_conf = optimizers.serialize(optimizer_conf)\n",
    "\n",
    "# Initialize SparkML Estimator and Get Settings\n",
    "estimator = ElephasEstimator()\n",
    "estimator.setFeaturesCol(\"features\")\n",
    "estimator.setLabelCol(\"submission_bucket\")\n",
    "estimator.set_keras_model_config(model.to_yaml())\n",
    "estimator.set_categorical_labels(True)\n",
    "estimator.set_nb_classes(nb_classes)\n",
    "estimator.set_num_workers(1)\n",
    "estimator.set_epochs(100) \n",
    "estimator.set_batch_size(128)\n",
    "estimator.set_verbosity(1)\n",
    "estimator.set_validation_split(0.10)\n",
    "estimator.set_optimizer_config(opt_conf)\n",
    "estimator.set_mode(\"synchronous\")\n",
    "estimator.set_loss(\"categorical_crossentropy\")\n",
    "estimator.set_metrics(['acc'])"
   ]
  },
  {
   "cell_type": "code",
   "execution_count": 35,
   "metadata": {},
   "outputs": [],
   "source": [
    "del data_ready"
   ]
  },
  {
   "cell_type": "code",
   "execution_count": 132,
   "metadata": {},
   "outputs": [
    {
     "data": {
      "text/plain": [
       "120"
      ]
     },
     "execution_count": 132,
     "metadata": {},
     "output_type": "execute_result"
    }
   ],
   "source": [
    "gc.collect()\n"
   ]
  },
  {
   "cell_type": "code",
   "execution_count": 133,
   "metadata": {
    "scrolled": true
   },
   "outputs": [
    {
     "name": "stderr",
     "output_type": "stream",
     "text": [
      "/anaconda3/lib/python3.7/site-packages/keras/engine/saving.py:473: YAMLLoadWarning: calling yaml.load() without Loader=... is deprecated, as the default Loader is unsafe. Please read https://msg.pyyaml.org/load for full details.\n",
      "  config = yaml.load(yaml_string)\n"
     ]
    },
    {
     "name": "stdout",
     "output_type": "stream",
     "text": [
      ">>> Fit model\n",
      ">>> Synchronous training complete.\n"
     ]
    }
   ],
   "source": [
    "fitted_model = estimator.fit(df_buck)"
   ]
  },
  {
   "cell_type": "code",
   "execution_count": 134,
   "metadata": {},
   "outputs": [],
   "source": [
    "pred_train = fitted_model.transform(df_buck)\n",
    "pnl_train = pred_train.select(\"submission_bucket\", \"prediction\")"
   ]
  },
  {
   "cell_type": "code",
   "execution_count": 135,
   "metadata": {},
   "outputs": [],
   "source": [
    "label = \"submission_bucket\""
   ]
  },
  {
   "cell_type": "code",
   "execution_count": 136,
   "metadata": {
    "scrolled": true
   },
   "outputs": [
    {
     "name": "stdout",
     "output_type": "stream",
     "text": [
      "Training Data Accuracy: 0.2828\n",
      "Training Data Confusion Matrix\n"
     ]
    },
    {
     "data": {
      "text/html": [
       "<div>\n",
       "<style scoped>\n",
       "    .dataframe tbody tr th:only-of-type {\n",
       "        vertical-align: middle;\n",
       "    }\n",
       "\n",
       "    .dataframe tbody tr th {\n",
       "        vertical-align: top;\n",
       "    }\n",
       "\n",
       "    .dataframe thead th {\n",
       "        text-align: right;\n",
       "    }\n",
       "</style>\n",
       "<table border=\"1\" class=\"dataframe\">\n",
       "  <thead>\n",
       "    <tr style=\"text-align: right;\">\n",
       "      <th></th>\n",
       "      <th>submission_bucket_prediction</th>\n",
       "      <th>0.0</th>\n",
       "      <th>1.0</th>\n",
       "      <th>2.0</th>\n",
       "      <th>3.0</th>\n",
       "      <th>4.0</th>\n",
       "      <th>5.0</th>\n",
       "      <th>6.0</th>\n",
       "      <th>7.0</th>\n",
       "      <th>8.0</th>\n",
       "      <th>9.0</th>\n",
       "    </tr>\n",
       "  </thead>\n",
       "  <tbody>\n",
       "    <tr>\n",
       "      <th>0</th>\n",
       "      <td>0.0</td>\n",
       "      <td>17</td>\n",
       "      <td>24</td>\n",
       "      <td>39</td>\n",
       "      <td>32</td>\n",
       "      <td>38</td>\n",
       "      <td>110</td>\n",
       "      <td>54</td>\n",
       "      <td>9</td>\n",
       "      <td>0</td>\n",
       "      <td>0</td>\n",
       "    </tr>\n",
       "    <tr>\n",
       "      <th>1</th>\n",
       "      <td>5.0</td>\n",
       "      <td>1</td>\n",
       "      <td>14</td>\n",
       "      <td>32</td>\n",
       "      <td>80</td>\n",
       "      <td>161</td>\n",
       "      <td>692</td>\n",
       "      <td>379</td>\n",
       "      <td>54</td>\n",
       "      <td>7</td>\n",
       "      <td>2</td>\n",
       "    </tr>\n",
       "    <tr>\n",
       "      <th>2</th>\n",
       "      <td>10.0</td>\n",
       "      <td>0</td>\n",
       "      <td>0</td>\n",
       "      <td>0</td>\n",
       "      <td>1</td>\n",
       "      <td>4</td>\n",
       "      <td>13</td>\n",
       "      <td>11</td>\n",
       "      <td>1</td>\n",
       "      <td>6</td>\n",
       "      <td>1</td>\n",
       "    </tr>\n",
       "    <tr>\n",
       "      <th>3</th>\n",
       "      <td>1.0</td>\n",
       "      <td>1</td>\n",
       "      <td>119</td>\n",
       "      <td>30</td>\n",
       "      <td>84</td>\n",
       "      <td>118</td>\n",
       "      <td>136</td>\n",
       "      <td>96</td>\n",
       "      <td>5</td>\n",
       "      <td>10</td>\n",
       "      <td>2</td>\n",
       "    </tr>\n",
       "    <tr>\n",
       "      <th>4</th>\n",
       "      <td>6.0</td>\n",
       "      <td>0</td>\n",
       "      <td>16</td>\n",
       "      <td>17</td>\n",
       "      <td>46</td>\n",
       "      <td>166</td>\n",
       "      <td>362</td>\n",
       "      <td>679</td>\n",
       "      <td>41</td>\n",
       "      <td>8</td>\n",
       "      <td>3</td>\n",
       "    </tr>\n",
       "    <tr>\n",
       "      <th>5</th>\n",
       "      <td>9.0</td>\n",
       "      <td>0</td>\n",
       "      <td>1</td>\n",
       "      <td>4</td>\n",
       "      <td>5</td>\n",
       "      <td>14</td>\n",
       "      <td>50</td>\n",
       "      <td>84</td>\n",
       "      <td>5</td>\n",
       "      <td>14</td>\n",
       "      <td>19</td>\n",
       "    </tr>\n",
       "    <tr>\n",
       "      <th>6</th>\n",
       "      <td>2.0</td>\n",
       "      <td>3</td>\n",
       "      <td>27</td>\n",
       "      <td>159</td>\n",
       "      <td>67</td>\n",
       "      <td>127</td>\n",
       "      <td>193</td>\n",
       "      <td>146</td>\n",
       "      <td>18</td>\n",
       "      <td>2</td>\n",
       "      <td>1</td>\n",
       "    </tr>\n",
       "    <tr>\n",
       "      <th>7</th>\n",
       "      <td>7.0</td>\n",
       "      <td>2</td>\n",
       "      <td>8</td>\n",
       "      <td>14</td>\n",
       "      <td>46</td>\n",
       "      <td>131</td>\n",
       "      <td>344</td>\n",
       "      <td>363</td>\n",
       "      <td>169</td>\n",
       "      <td>11</td>\n",
       "      <td>3</td>\n",
       "    </tr>\n",
       "    <tr>\n",
       "      <th>8</th>\n",
       "      <td>3.0</td>\n",
       "      <td>2</td>\n",
       "      <td>36</td>\n",
       "      <td>33</td>\n",
       "      <td>189</td>\n",
       "      <td>154</td>\n",
       "      <td>288</td>\n",
       "      <td>202</td>\n",
       "      <td>20</td>\n",
       "      <td>2</td>\n",
       "      <td>1</td>\n",
       "    </tr>\n",
       "    <tr>\n",
       "      <th>9</th>\n",
       "      <td>8.0</td>\n",
       "      <td>1</td>\n",
       "      <td>3</td>\n",
       "      <td>9</td>\n",
       "      <td>9</td>\n",
       "      <td>61</td>\n",
       "      <td>203</td>\n",
       "      <td>231</td>\n",
       "      <td>35</td>\n",
       "      <td>43</td>\n",
       "      <td>9</td>\n",
       "    </tr>\n",
       "    <tr>\n",
       "      <th>10</th>\n",
       "      <td>4.0</td>\n",
       "      <td>3</td>\n",
       "      <td>31</td>\n",
       "      <td>25</td>\n",
       "      <td>94</td>\n",
       "      <td>301</td>\n",
       "      <td>340</td>\n",
       "      <td>319</td>\n",
       "      <td>30</td>\n",
       "      <td>12</td>\n",
       "      <td>3</td>\n",
       "    </tr>\n",
       "  </tbody>\n",
       "</table>\n",
       "</div>"
      ],
      "text/plain": [
       "   submission_bucket_prediction  0.0  1.0  2.0  3.0  4.0  5.0  6.0  7.0  8.0  \\\n",
       "0                           0.0   17   24   39   32   38  110   54    9    0   \n",
       "1                           5.0    1   14   32   80  161  692  379   54    7   \n",
       "2                          10.0    0    0    0    1    4   13   11    1    6   \n",
       "3                           1.0    1  119   30   84  118  136   96    5   10   \n",
       "4                           6.0    0   16   17   46  166  362  679   41    8   \n",
       "5                           9.0    0    1    4    5   14   50   84    5   14   \n",
       "6                           2.0    3   27  159   67  127  193  146   18    2   \n",
       "7                           7.0    2    8   14   46  131  344  363  169   11   \n",
       "8                           3.0    2   36   33  189  154  288  202   20    2   \n",
       "9                           8.0    1    3    9    9   61  203  231   35   43   \n",
       "10                          4.0    3   31   25   94  301  340  319   30   12   \n",
       "\n",
       "    9.0  \n",
       "0     0  \n",
       "1     2  \n",
       "2     1  \n",
       "3     2  \n",
       "4     3  \n",
       "5    19  \n",
       "6     1  \n",
       "7     3  \n",
       "8     1  \n",
       "9     9  \n",
       "10    3  "
      ]
     },
     "metadata": {},
     "output_type": "display_data"
    }
   ],
   "source": [
    "pnl_train = pred_train.select(label, \"prediction\")\n",
    "# pnl_test = pred_test.select(label, \"prediction\")\n",
    "\n",
    "pred_and_label_train = pnl_train.rdd.map(lambda row: (row[label], row['prediction']))\n",
    "# pred_and_label_test = pnl_test.rdd.map(lambda row: (row[label], row['prediction']))\n",
    "\n",
    "metrics_train = MulticlassMetrics(pred_and_label_train)\n",
    "# metrics_test = MulticlassMetrics(pred_and_label_test)\n",
    "\n",
    "print(\"Training Data Accuracy: {}\".format(round(metrics_train.precision(),4)))\n",
    "print(\"Training Data Confusion Matrix\")\n",
    "display(pnl_train.crosstab(label, 'prediction').toPandas())\n",
    "\n",
    "# print(\"\\nTest Data Accuracy: {}\".format(round(metrics_test.precision(),4)))\n",
    "# print(\"Test Data Confusion Matrix\")\n",
    "# display(pnl_test.crosstab(label, 'prediction').toPandas())"
   ]
  }
 ],
 "metadata": {
  "kernelspec": {
   "display_name": "Python 3",
   "language": "python",
   "name": "python3"
  },
  "language_info": {
   "codemirror_mode": {
    "name": "ipython",
    "version": 3
   },
   "file_extension": ".py",
   "mimetype": "text/x-python",
   "name": "python",
   "nbconvert_exporter": "python",
   "pygments_lexer": "ipython3",
   "version": "3.7.3"
  }
 },
 "nbformat": 4,
 "nbformat_minor": 2
}
